{
 "cells": [
  {
   "cell_type": "markdown",
   "metadata": {},
   "source": [
    "## 处理数据\n",
    "数据格式：label word word word （以空格作为词与词的分隔） 同时存在很多繁体字，需要进行处理，转成简体字"
   ]
  },
  {
   "cell_type": "markdown",
   "metadata": {},
   "source": [
    "### 将繁体字转成简体"
   ]
  },
  {
   "cell_type": "code",
   "execution_count": 1,
   "metadata": {},
   "outputs": [],
   "source": [
    "from opencc import OpenCC\n",
    "def t2s(file_path,output_file_path):\n",
    "    \"\"\"\n",
    "        file_path：源文件地址\n",
    "        output_file_path：转换成简体后保存的地址\n",
    "    \"\"\"\n",
    "    input = open(file_path).read()\n",
    "    output = open(output_file_path,\"w\")\n",
    "    output.write(OpenCC(\"t2s\").convert(input))\n",
    "    output.close()\n",
    "# t2s(\"./data/train.txt\",\"./data/train_zh.txt\")\n",
    "# t2s(\"./data/test.txt\",\"./data/test_zh.txt\")\n",
    "# t2s(\"./data/validation.txt\",\"./data/validation_zh.txt\")"
   ]
  },
  {
   "cell_type": "markdown",
   "metadata": {},
   "source": [
    "### 构建训练集的词汇表。要加入\\<unk\\>(因为测试集可能存在unknow词汇)，\\<pad\\>(用于填充)"
   ]
  },
  {
   "cell_type": "code",
   "execution_count": 2,
   "metadata": {},
   "outputs": [],
   "source": [
    "from collections import Counter\n",
    "def build_word_vocab(train_file_path):\n",
    "    \"\"\"\n",
    "        构建训练集的词汇表\n",
    "    \"\"\"\n",
    "    with open(train_file_path) as f:\n",
    "        lines = f.readlines()\n",
    "        words = []\n",
    "        for line in lines:\n",
    "            text = line.split()[1:]\n",
    "            words.extend([x for x in text])\n",
    "    counter = Counter(words)\n",
    "    # 使用训练集中前99.9%的词汇\n",
    "    counter = counter.most_common(int(len(counter)*0.999)) # [(word,count),(word,count)]\n",
    "\n",
    "    words = [word for word,_ in counter] \n",
    "\n",
    "    word2idx = {word:index+2 for index,word in enumerate(words)}\n",
    "    word2idx[\"<pad>\"] = 0\n",
    "    word2idx[\"<unk>\"] = 1\n",
    "\n",
    "    idx2word = {index+2:word for index,word in enumerate(words)}\n",
    "    idx2word[0] = \"<pad>\"\n",
    "    idx2word[1] = \"<unk>\"\n",
    "\n",
    "    return word2idx,idx2word\n",
    "\n",
    "word2idx,idx2word = build_word_vocab(\"./data/train_zh.txt\")"
   ]
  },
  {
   "cell_type": "markdown",
   "metadata": {},
   "source": [
    "## 加载预训练的word2vec模型\n",
    "进行预处理并保存\n"
   ]
  },
  {
   "cell_type": "code",
   "execution_count": 2,
   "metadata": {},
   "outputs": [],
   "source": [
    "from gensim.models import keyedvectors\n",
    "import torch\n",
    "w2v=keyedvectors.load_word2vec_format(\"./data/wiki_word2vec_50.bin\",binary=True)\n",
    "vocab_size = len(word2idx) # 字典里面有多少个词\n",
    "embedding_dim = w2v.vector_size # embedding之后的维度\n",
    "# 初始化词向量矩阵，用0初始化。\n",
    "embedding_weight = torch.zeros(vocab_size,embedding_dim)\n",
    "for id,word in idx2word.items():\n",
    "    # 假如该词汇存在于预训练模型中，则直接使用预训练模型中的值替代\n",
    "    if word in w2v.key_to_index.keys():\n",
    "        embedding_weight[id] = torch.from_numpy(w2v[word])\n",
    "\n",
    "torch.save(embedding_weight,\"./output/embedding_weight.h5\")"
   ]
  },
  {
   "cell_type": "code",
   "execution_count": 4,
   "metadata": {},
   "outputs": [],
   "source": [
    "import numpy as np\n",
    "np.save(\"./output/word2idx.npy\",word2idx)"
   ]
  },
  {
   "cell_type": "code",
   "execution_count": 5,
   "metadata": {},
   "outputs": [
    {
     "data": {
      "text/plain": [
       "['交流会', '粗放', '街坊邻居', '某年', '归咎于', '尊有', '两条腿', '刚巧', '<pad>', '<unk>']"
      ]
     },
     "execution_count": 5,
     "metadata": {},
     "output_type": "execute_result"
    }
   ],
   "source": [
    "list(word2idx.keys())[-10:]"
   ]
  }
 ],
 "metadata": {
  "interpreter": {
   "hash": "f1f19b4cb6f07787e8aa8a4ed8d21d7c54c8571ee1dd17ba5dfeacd1c5a2f4df"
  },
  "kernelspec": {
   "display_name": "Python 3.9.7 ('torch')",
   "language": "python",
   "name": "python3"
  },
  "language_info": {
   "codemirror_mode": {
    "name": "ipython",
    "version": 3
   },
   "file_extension": ".py",
   "mimetype": "text/x-python",
   "name": "python",
   "nbconvert_exporter": "python",
   "pygments_lexer": "ipython3",
   "version": "3.8.12"
  },
  "orig_nbformat": 4
 },
 "nbformat": 4,
 "nbformat_minor": 2
}
