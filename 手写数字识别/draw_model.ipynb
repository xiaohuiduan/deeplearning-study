{
 "cells": [
  {
   "cell_type": "code",
   "execution_count": null,
   "metadata": {},
   "outputs": [],
   "source": [
    "import torch\n",
    "import torch.nn as nn\n",
    "import torch.nn.functional as F\n",
    "class MyNet(nn.Module):\n",
    "    def __init__(self):\n",
    "        super(MyNet,self).__init__()\n",
    "        self.conv_1 = nn.Sequential(\n",
    "            nn.Conv2d(1,32,kernel_size=3,padding=1),\n",
    "            nn.ReLU(),\n",
    "            nn.BatchNorm2d(32),\n",
    "            nn.MaxPool2d(2,2),\n",
    "            nn.Dropout(0.25)\n",
    "        )\n",
    "        self.conv_2 = nn.Sequential(\n",
    "            nn.Conv2d(32,64,kernel_size=3,padding=1),\n",
    "            nn.ReLU(),\n",
    "            nn.BatchNorm2d(64),\n",
    "            nn.MaxPool2d(2,2),\n",
    "            nn.Dropout(0.25),\n",
    "        )\n",
    "\n",
    "        self.conv_3 = nn.Sequential(\n",
    "            nn.Conv2d(64,128,kernel_size=3),\n",
    "            nn.ReLU(),\n",
    "            nn.BatchNorm2d(128),\n",
    "            nn.MaxPool2d(2,2),\n",
    "            nn.Dropout(0.25),\n",
    "        )\n",
    "\n",
    "        self.fc = nn.Sequential(\n",
    "            nn.Linear(512,128),\n",
    "            nn.Linear(128,10)\n",
    "        )\n",
    "\n",
    "    def forward(self,x):\n",
    "        x = self.conv_1(x)\n",
    "        x = self.conv_2(x)\n",
    "        x = self.conv_3(x)\n",
    "        x = x.view(x.size(0),-1)\n",
    "        \n",
    "        x = self.fc(x)\n",
    "        return F.log_softmax(x,dim=1)\n",
    "\n",
    "device = torch.device(\"cpu\")\n",
    "x = torch.rand(16, 1, 28, 28).to(device)\n",
    "\n",
    "myNet = torch.load(\"mnist.h5\").to(device)\n",
    "\n",
    "onnx_path = \"onnx_model_name.onnx\"\n",
    "torch.onnx.export(myNet, x, onnx_path,input_names=[\"手写数字图片\"],output_names=[\"手写数字结果\"])\n",
    "\n",
    "import netron\n",
    "netron.start(onnx_path)"
   ]
  },
  {
   "cell_type": "code",
   "execution_count": null,
   "metadata": {},
   "outputs": [],
   "source": [
    "a = torch.Tensor([1,2,3])\n",
    "b = F.log_softmax(a,dim=0)\n",
    "b.sum()\n"
   ]
  }
 ],
 "metadata": {
  "interpreter": {
   "hash": "d3be265be7e6d8355c6771ed6f5e3c6e103454948ecd1fb9d192c1aed121a72a"
  },
  "kernelspec": {
   "display_name": "Python 3.8.12 ('torch')",
   "language": "python",
   "name": "python3"
  },
  "language_info": {
   "codemirror_mode": {
    "name": "ipython",
    "version": 3
   },
   "file_extension": ".py",
   "mimetype": "text/x-python",
   "name": "python",
   "nbconvert_exporter": "python",
   "pygments_lexer": "ipython3",
   "version": "3.8.12"
  },
  "orig_nbformat": 4
 },
 "nbformat": 4,
 "nbformat_minor": 2
}
