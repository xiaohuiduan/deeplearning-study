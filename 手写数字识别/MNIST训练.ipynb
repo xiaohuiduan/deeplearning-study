{
 "cells": [
  {
   "cell_type": "markdown",
   "metadata": {},
   "source": [
    "## 处理数据集\n",
    "参考：https://www.jianshu.com/p/e7c286530ab9\n",
    "### 图像文件\n",
    "- 第1-４个byte（字节，１byte=8bit），即前32bit存的是文件的magic number，对应的十进制大小是2051；\n",
    "- 第5-8个byte存的是number of images，即图像数量60000；\n",
    "- 第9-12个byte存的是每张图片行数/高度，即28；\n",
    "- 第13-16个byte存的是每张图片的列数/宽度，即28。\n",
    "- 从第17个byte开始，每个byte存储一张图片中的一个像素点的值。\n",
    "\n",
    "### 标签文件\n",
    "- 第1-４个byte存的是文件的magic number，对应的十进制大小是2049；\n",
    "- 第5-8个byte存的是number of items，即label数量60000；\n",
    "- 从第9个byte开始，每个byte存一个图片的label信息，即数字0-9中的一个。"
   ]
  },
  {
   "cell_type": "code",
   "execution_count": 22,
   "metadata": {},
   "outputs": [],
   "source": [
    "import numpy as np\n",
    "def read_image(file_path):\n",
    "    \"\"\"读取MNIST图片\n",
    "\n",
    "    Args:\n",
    "        file_path (str): 图片文件位置\n",
    "\n",
    "    Returns:\n",
    "        list: 图片列表\n",
    "    \"\"\"\n",
    "    with open(file_path,'rb') as f:\n",
    "        file = f.read()\n",
    "        img_num = int.from_bytes(file[4:8],byteorder='big') #图片数量\n",
    "        img_h = int.from_bytes(file[8:12],byteorder='big') #图片h\n",
    "        img_w = int.from_bytes(file[12:16],byteorder='big') #图片w\n",
    "        img_data = []\n",
    "        file = file[16:]\n",
    "        data_len = img_h*img_w\n",
    "\n",
    "        for i in range(img_num):\n",
    "            data = [item/255 for item in file[i*data_len:(i+1)*data_len]]\n",
    "            img_data.append(np.array(data).reshape(img_h,img_w))\n",
    "\n",
    "        return img_data\n",
    "\n",
    "def read_label(file_path):\n",
    "    \"\"\"读取标签数据\n",
    "\n",
    "    Args:\n",
    "        file_path (_type_): _description_\n",
    "\n",
    "    Returns:\n",
    "        _type_: _description_\n",
    "    \"\"\"\n",
    "    with open(file_path,'rb') as f:\n",
    "        file = f.read()\n",
    "        label_num = int.from_bytes(file[4:8],byteorder='big') #label的数量\n",
    "        file = file[8:]\n",
    "        label_data = []\n",
    "        for i in range(label_num):\n",
    "            label_data.append(file[i])\n",
    "        return label_data\n",
    "\n",
    "\n",
    "train_img  = read_image(\"mnist_data/train/train-images.idx3-ubyte\")\n",
    "train_label = read_label(\"mnist_data/train/train-labels.idx1-ubyte\")\n",
    "\n",
    "# test_img = read_image(\"mnist_data/test/t10k-images.idx3-ubyte\")\n",
    "# test_label = read_label(\"mnist_data/test/t10k-labels.idx1-ubyte\")"
   ]
  },
  {
   "cell_type": "code",
   "execution_count": 23,
   "metadata": {},
   "outputs": [],
   "source": [
    "from sklearn.model_selection import train_test_split\n",
    "train_img,valid_img,train_label,valid_label = train_test_split(train_img,train_label,test_size=0.2,shuffle=True)"
   ]
  },
  {
   "cell_type": "code",
   "execution_count": 24,
   "metadata": {},
   "outputs": [],
   "source": [
    "import torch\n",
    "from torch.utils.data import Dataset,DataLoader\n",
    "from torchvision import transforms\n",
    "\n",
    "my_transforms = transforms.Compose([\n",
    "    transforms.ToTensor(),\n",
    "    transforms.Normalize((0.1307,), (0.3081,))\n",
    "])\n",
    "\n",
    "class MnistDataset(Dataset):\n",
    "    def __init__(self,image,label,my_transforms):\n",
    "        self.len = len(label)\n",
    "        self.image = image\n",
    "        self.label = label\n",
    "        self.my_transforms = my_transforms\n",
    "    def __getitem__(self,index):\n",
    "        return my_transforms(self.image[index]),self.label[index]\n",
    "\n",
    "    def __len__(self):\n",
    "        return self.len\n",
    "        \n",
    "myDataset = MnistDataset(train_img,train_label,my_transforms)\n",
    "validDataset = MnistDataset(valid_img,valid_label,my_transforms)\n",
    "\n",
    "train_loader = DataLoader(myDataset,2048,shuffle=True)\n",
    "valid_loader = DataLoader(validDataset,512,shuffle=True)"
   ]
  },
  {
   "cell_type": "code",
   "execution_count": 25,
   "metadata": {},
   "outputs": [
    {
     "data": {
      "image/png": "[encoded data removed]",
      "text/plain": [
       "<Figure size 432x288 with 6 Axes>"
      ]
     },
     "metadata": {},
     "output_type": "display_data"
    }
   ],
   "source": [
    "example_data,example_targets = next(iter(train_loader))\n",
    "import matplotlib.pyplot as plt\n",
    "fig = plt.figure()\n",
    "\n",
    "for i in range(6):\n",
    "  plt.subplot(2,3,i+1)\n",
    "  plt.tight_layout()\n",
    "  plt.imshow(example_data[i][0], cmap='gray', interpolation='none')\n",
    "  plt.title(\"Ground Truth: {}\".format(example_targets[i]))\n",
    "  plt.xticks([])\n",
    "  plt.yticks([])\n",
    "plt.show()"
   ]
  },
  {
   "cell_type": "code",
   "execution_count": 26,
   "metadata": {},
   "outputs": [
    {
     "name": "stdout",
     "output_type": "stream",
     "text": [
      "cuda:0\n"
     ]
    }
   ],
   "source": [
    "import torch.nn as nn\n",
    "import torch.nn.functional as F\n",
    "device = torch.device(\"cuda:0\" if torch.cuda.is_available() else \"cpu\")\n",
    "print(device)"
   ]
  },
  {
   "cell_type": "code",
   "execution_count": 27,
   "metadata": {},
   "outputs": [],
   "source": [
    "class MyNet(nn.Module):\n",
    "    def __init__(self):\n",
    "        super(MyNet,self).__init__()\n",
    "        self.conv_1 = nn.Sequential(\n",
    "            nn.Conv2d(1,32,kernel_size=3,padding=1),\n",
    "            nn.ReLU(),\n",
    "            nn.BatchNorm2d(32),\n",
    "            nn.MaxPool2d(2,2),\n",
    "            nn.Dropout(0.25)\n",
    "        )\n",
    "        self.conv_2 = nn.Sequential(\n",
    "            nn.Conv2d(32,64,kernel_size=3,padding=1),\n",
    "            nn.ReLU(),\n",
    "            nn.BatchNorm2d(64),\n",
    "            nn.MaxPool2d(2,2),\n",
    "            nn.Dropout(0.25),\n",
    "        )\n",
    "\n",
    "        self.conv_3 = nn.Sequential(\n",
    "            nn.Conv2d(64,128,kernel_size=3),\n",
    "            nn.ReLU(),\n",
    "            nn.BatchNorm2d(128),\n",
    "            nn.MaxPool2d(2,2),\n",
    "            nn.Dropout(0.25),\n",
    "        )\n",
    "\n",
    "        self.fc = nn.Sequential(\n",
    "            nn.Linear(512,128),\n",
    "            nn.Linear(128,10)\n",
    "        )\n",
    "\n",
    "    def forward(self,x):\n",
    "        x = self.conv_1(x)\n",
    "        x = self.conv_2(x)\n",
    "        x = self.conv_3(x)\n",
    "        x = x.view(x.size(0),-1)\n",
    "        \n",
    "        x = self.fc(x)\n",
    "        return F.log_softmax(x,dim=1)\n",
    "myNet = MyNet().to(device)\n",
    "# myNet = torch.load(\"mnist.h5\").to(device)"
   ]
  },
  {
   "cell_type": "code",
   "execution_count": 28,
   "metadata": {},
   "outputs": [],
   "source": [
    "def test_acc():\n",
    "    correct = 0\n",
    "    total = 0\n",
    "    for data in valid_loader:\n",
    "        valid_imgs,valid_labels = data\n",
    "        valid_imgs = valid_imgs.type(torch.FloatTensor)\n",
    "        outputs = myNet(valid_imgs.to(device)).to(\"cpu\")\n",
    "        _,predict_label = torch.max(outputs,1)\n",
    "        total += valid_labels.size(0)\n",
    "        correct += (predict_label == valid_labels).sum().item()\n",
    "    return correct/total\n",
    "    \n",
    "def train_loss_acc():\n",
    "    losses = 0\n",
    "    correct = 0\n",
    "    total = 0\n",
    "    for i,data in enumerate(train_loader,0):\n",
    "        imgs,labels = data\n",
    "        imgs = imgs.type(torch.FloatTensor)\n",
    "        imgs = imgs.to(device)\n",
    "        labels = labels.to(device)\n",
    "        optimizer.zero_grad()\n",
    "        outputs = myNet(imgs)\n",
    "        _,predict_label = torch.max(outputs,1)\n",
    "        total += labels.size(0)\n",
    "        correct += (predict_label == labels).sum().item()\n",
    "\n",
    "        loss = criterion(outputs,labels)\n",
    "        loss.backward()\n",
    "        optimizer.step()\n",
    "        losses += loss.item()\n",
    "    \n",
    "    return losses,correct/total\n"
   ]
  },
  {
   "cell_type": "code",
   "execution_count": 31,
   "metadata": {},
   "outputs": [],
   "source": [
    "import torch.optim as optim\n",
    "from torch.utils.tensorboard import SummaryWriter\n",
    "\n",
    "log_writer = SummaryWriter()\n",
    "criterion = nn.CrossEntropyLoss()\n",
    "optimizer = optim.SGD(myNet.parameters(),lr=0.001,momentum=0.9)\n",
    "\n",
    "for epoch in range(100,400):\n",
    "    myNet.train()\n",
    "    loss,acc = train_loss_acc()\n",
    "    log_writer.add_scalar(\"Loss/train\",float(loss),epoch)\n",
    "    log_writer.add_scalar(\"Acc/train\",float(acc),epoch)\n",
    "    myNet.eval()\n",
    "    acc = test_acc()\n",
    "    log_writer.add_scalar(\"Acc/valid\",float(acc),epoch)\n",
    "        "
   ]
  },
  {
   "cell_type": "code",
   "execution_count": 32,
   "metadata": {},
   "outputs": [],
   "source": [
    "torch.save(myNet,\"mnist.h5\")"
   ]
  }
 ],
 "metadata": {
  "interpreter": {
   "hash": "d3be265be7e6d8355c6771ed6f5e3c6e103454948ecd1fb9d192c1aed121a72a"
  },
  "kernelspec": {
   "display_name": "Python 3.8.12 ('torch')",
   "language": "python",
   "name": "python3"
  },
  "language_info": {
   "codemirror_mode": {
    "name": "ipython",
    "version": 3
   },
   "file_extension": ".py",
   "mimetype": "text/x-python",
   "name": "python",
   "nbconvert_exporter": "python",
   "pygments_lexer": "ipython3",
   "version": "3.8.12"
  },
  "orig_nbformat": 4
 },
 "nbformat": 4,
 "nbformat_minor": 2
}
