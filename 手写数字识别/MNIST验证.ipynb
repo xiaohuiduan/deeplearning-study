{
 "cells": [
  {
   "cell_type": "code",
   "execution_count": 1,
   "metadata": {},
   "outputs": [],
   "source": [
    "import numpy as np\n",
    "def read_image(file_path):\n",
    "    with open(file_path,'rb') as f:\n",
    "        file = f.read()\n",
    "        img_num = int.from_bytes(file[4:8],byteorder='big')\n",
    "        img_h = int.from_bytes(file[8:12],byteorder='big')\n",
    "        img_w = int.from_bytes(file[12:16],byteorder='big')\n",
    "        img_data = []\n",
    "        file = file[16:]\n",
    "        data_len = img_h*img_w\n",
    "\n",
    "        for i in range(img_num):\n",
    "            data = [item/255 for item in file[i*data_len:(i+1)*data_len]]\n",
    "            img_data.append(np.array(data).reshape(img_h,img_w))\n",
    "\n",
    "        return img_data\n",
    "\n",
    "def read_label(file_path):\n",
    "    with open(file_path,'rb') as f:\n",
    "        file = f.read()\n",
    "        label_num = int.from_bytes(file[4:8],byteorder='big')\n",
    "        file = file[8:]\n",
    "        label_data = []\n",
    "        for i in range(label_num):\n",
    "            label_data.append(file[i])\n",
    "        return label_data\n",
    "\n",
    "test_img = read_image(\"mnist_data/test/t10k-images.idx3-ubyte\")\n",
    "test_label = read_label(\"mnist_data/test/t10k-labels.idx1-ubyte\")"
   ]
  },
  {
   "cell_type": "code",
   "execution_count": 2,
   "metadata": {},
   "outputs": [],
   "source": [
    "import torch\n",
    "from torch.utils.data import Dataset,DataLoader\n",
    "import torchvision\n",
    "from torchvision import datasets,transforms\n",
    "\n",
    "my_transforms = transforms.Compose([\n",
    "    transforms.ToTensor(),\n",
    "    transforms.Normalize((0.1307,), (0.3081,))\n",
    "])\n",
    "class MnistDataset(Dataset):\n",
    "    def __init__(self,image,label,my_transforms):\n",
    "        self.len = len(label)\n",
    "        self.image = image\n",
    "        self.label = label\n",
    "        self.my_transforms = my_transforms\n",
    "    def __getitem__(self,index):\n",
    "        return my_transforms(self.image[index]),self.label[index]\n",
    "\n",
    "    def __len__(self):\n",
    "        return self.len"
   ]
  },
  {
   "cell_type": "code",
   "execution_count": 3,
   "metadata": {},
   "outputs": [
    {
     "name": "stdout",
     "output_type": "stream",
     "text": [
      "cuda:0\n"
     ]
    }
   ],
   "source": [
    "import torch.nn as nn\n",
    "import torch.nn.functional as F\n",
    "device = torch.device(\"cuda:0\" if torch.cuda.is_available() else \"cpu\")\n",
    "print(device)"
   ]
  },
  {
   "cell_type": "markdown",
   "metadata": {},
   "source": [
    "使用LeNet网络结构,参考PPT中的结构"
   ]
  },
  {
   "cell_type": "code",
   "execution_count": 4,
   "metadata": {},
   "outputs": [],
   "source": [
    "class MyNet(nn.Module):\n",
    "    def __init__(self):\n",
    "        super(MyNet,self).__init__()\n",
    "        self.conv_1 = nn.Sequential(\n",
    "            nn.Conv2d(1,32,kernel_size=3,padding=1),\n",
    "            nn.ReLU(),\n",
    "            nn.BatchNorm2d(32),\n",
    "            nn.MaxPool2d(2,2),\n",
    "            nn.Dropout(0.25)\n",
    "        )\n",
    "        self.conv_2 = nn.Sequential(\n",
    "            nn.Conv2d(32,64,kernel_size=3,padding=1),\n",
    "            nn.ReLU(),\n",
    "            nn.BatchNorm2d(64),\n",
    "            nn.MaxPool2d(2,2),\n",
    "            nn.Dropout(0.25),\n",
    "        )\n",
    "\n",
    "        self.conv_3 = nn.Sequential(\n",
    "            nn.Conv2d(64,128,kernel_size=3),\n",
    "            nn.ReLU(),\n",
    "            nn.BatchNorm2d(128),\n",
    "            nn.MaxPool2d(2,2),\n",
    "            nn.Dropout(0.25),\n",
    "        )\n",
    "\n",
    "        self.fc = nn.Sequential(\n",
    "            nn.Linear(512,128),\n",
    "            nn.Linear(128,10)\n",
    "        )\n",
    "\n",
    "    def forward(self,x):\n",
    "        x = self.conv_1(x)\n",
    "        x = self.conv_2(x)\n",
    "        x = self.conv_3(x)\n",
    "        x = x.view(x.size(0),-1)\n",
    "        \n",
    "        x = self.fc(x)\n",
    "        return F.log_softmax(x,dim=1)\n",
    "myNet = torch.load(\"mnist.h5\").to(device)"
   ]
  },
  {
   "cell_type": "code",
   "execution_count": 5,
   "metadata": {},
   "outputs": [],
   "source": [
    "\n",
    "testDataset = MnistDataset(test_img,test_label,my_transforms)\n",
    "test_loader = DataLoader(testDataset,256)\n",
    "\n",
    "\n",
    "def test_loss_acc():\n",
    "    correct = 0\n",
    "    total = 0\n",
    "    for data in test_loader:\n",
    "            \n",
    "        test_imgs,test_labels = data\n",
    "        test_imgs = test_imgs.type(torch.FloatTensor)\n",
    "        outputs = myNet(test_imgs.to(device)).to(\"cpu\")\n",
    "        _,predict_labels = torch.max(outputs,1)\n",
    "        total += test_labels.size(0)\n",
    "        mask = predict_labels == test_labels\n",
    "        correct += mask.sum().item()\n",
    "    print(\"测试集正确率：{}%\".format(100.0 * correct / total))\n",
    "    return total,correct\n",
    "    \n"
   ]
  },
  {
   "cell_type": "code",
   "execution_count": 6,
   "metadata": {},
   "outputs": [
    {
     "name": "stdout",
     "output_type": "stream",
     "text": [
      "测试集正确率：99.36%\n"
     ]
    },
    {
     "data": {
      "text/plain": [
       "(10000, 9936)"
      ]
     },
     "execution_count": 6,
     "metadata": {},
     "output_type": "execute_result"
    }
   ],
   "source": [
    "import torch.optim as optim\n",
    "\n",
    "myNet.eval()\n",
    "test_loss_acc()\n"
   ]
  }
 ],
 "metadata": {
  "interpreter": {
   "hash": "d3be265be7e6d8355c6771ed6f5e3c6e103454948ecd1fb9d192c1aed121a72a"
  },
  "kernelspec": {
   "display_name": "Python 3.8.12 ('torch')",
   "language": "python",
   "name": "python3"
  },
  "language_info": {
   "codemirror_mode": {
    "name": "ipython",
    "version": 3
   },
   "file_extension": ".py",
   "mimetype": "text/x-python",
   "name": "python",
   "nbconvert_exporter": "python",
   "pygments_lexer": "ipython3",
   "version": "3.8.12"
  },
  "orig_nbformat": 4
 },
 "nbformat": 4,
 "nbformat_minor": 2
}
