{
 "cells": [
  {
   "cell_type": "markdown",
   "id": "ec344628",
   "metadata": {},
   "source": [
    "使用了两个网络vgg&resnet进行特征提取，然后将输出的特征在channel维进行concat，再将concat后的结果输入到全连接层，最终得到预测结果。"
   ]
  },
  {
   "cell_type": "code",
   "execution_count": 1,
   "id": "034f038d",
   "metadata": {
    "execution": {
     "iopub.execute_input": "2022-03-20T06:00:15.672108Z",
     "iopub.status.busy": "2022-03-20T06:00:15.670598Z",
     "iopub.status.idle": "2022-03-20T06:00:17.497248Z",
     "shell.execute_reply": "2022-03-20T06:00:17.496703Z",
     "shell.execute_reply.started": "2022-03-20T05:33:29.439820Z"
    },
    "papermill": {
     "duration": 1.844185,
     "end_time": "2022-03-20T06:00:17.497392",
     "exception": false,
     "start_time": "2022-03-20T06:00:15.653207",
     "status": "completed"
    },
    "tags": []
   },
   "outputs": [
    {
     "name": "stdout",
     "output_type": "stream",
     "text": [
      "cuda:0\n"
     ]
    }
   ],
   "source": [
    "import torch\n",
    "from torchvision import models\n",
    "\n",
    "device = torch.device(\"cuda:0\" if torch.cuda.is_available() else \"cpu\")\n",
    "print(device)"
   ]
  },
  {
   "cell_type": "code",
   "execution_count": 2,
   "id": "6749a183",
   "metadata": {
    "execution": {
     "iopub.execute_input": "2022-03-20T06:00:17.531154Z",
     "iopub.status.busy": "2022-03-20T06:00:17.530617Z",
     "iopub.status.idle": "2022-03-20T06:00:22.493316Z",
     "shell.execute_reply": "2022-03-20T06:00:22.492813Z",
     "shell.execute_reply.started": "2022-03-20T05:33:30.007193Z"
    },
    "papermill": {
     "duration": 4.981535,
     "end_time": "2022-03-20T06:00:22.493441",
     "exception": false,
     "start_time": "2022-03-20T06:00:17.511906",
     "status": "completed"
    },
    "tags": []
   },
   "outputs": [
    {
     "name": "stderr",
     "output_type": "stream",
     "text": [
      "Downloading: \"https://download.pytorch.org/models/vgg16-397923af.pth\" to /root/.cache/torch/hub/checkpoints/vgg16-397923af.pth\n"
     ]
    },
    {
     "data": {
      "application/vnd.jupyter.widget-view+json": {
       "model_id": "cf12582c171f4aeda5d925f856d802e2",
       "version_major": 2,
       "version_minor": 0
      },
      "text/plain": [
       "  0%|          | 0.00/528M [00:00<?, ?B/s]"
      ]
     },
     "metadata": {},
     "output_type": "display_data"
    },
    {
     "name": "stderr",
     "output_type": "stream",
     "text": [
      "Downloading: \"https://download.pytorch.org/models/resnet34-b627a593.pth\" to /root/.cache/torch/hub/checkpoints/resnet34-b627a593.pth\n"
     ]
    },
    {
     "data": {
      "application/vnd.jupyter.widget-view+json": {
       "model_id": "b258753553fe41459036587d09015fc2",
       "version_major": 2,
       "version_minor": 0
      },
      "text/plain": [
       "  0%|          | 0.00/83.3M [00:00<?, ?B/s]"
      ]
     },
     "metadata": {},
     "output_type": "display_data"
    }
   ],
   "source": [
    "import torch.nn as nn\n",
    "\n",
    "# 使用VGG特征\n",
    "model = models.vgg16(pretrained=True)\n",
    "vgg_feature = model.features\n",
    "\n",
    "# 使用Resnet特征\n",
    "resnet = models.resnet34(pretrained=True)\n",
    "modules = list(resnet.children())[:-2]      # delete the last fc layer.\n",
    "res_feature = nn.Sequential(*modules).eval()"
   ]
  },
  {
   "cell_type": "code",
   "execution_count": 3,
   "id": "cdf59681",
   "metadata": {
    "execution": {
     "iopub.execute_input": "2022-03-20T06:00:22.526396Z",
     "iopub.status.busy": "2022-03-20T06:00:22.525589Z",
     "iopub.status.idle": "2022-03-20T06:00:33.090440Z",
     "shell.execute_reply": "2022-03-20T06:00:33.089840Z",
     "shell.execute_reply.started": "2022-03-20T05:33:32.362999Z"
    },
    "papermill": {
     "duration": 10.582816,
     "end_time": "2022-03-20T06:00:33.090569",
     "exception": false,
     "start_time": "2022-03-20T06:00:22.507753",
     "status": "completed"
    },
    "tags": []
   },
   "outputs": [],
   "source": [
    "# !unzip ../input/dogs-vs-cats/train.zip > /dev/null"
   ]
  },
  {
   "cell_type": "markdown",
   "id": "b9454b53",
   "metadata": {
    "papermill": {
     "duration": 0.01356,
     "end_time": "2022-03-20T06:00:33.118282",
     "exception": false,
     "start_time": "2022-03-20T06:00:33.104722",
     "status": "completed"
    },
    "tags": []
   },
   "source": [
    "将VGG，Resnet特征concat起来进行训练。"
   ]
  },
  {
   "cell_type": "code",
   "execution_count": 4,
   "id": "7520a628",
   "metadata": {
    "execution": {
     "iopub.execute_input": "2022-03-20T06:00:33.152356Z",
     "iopub.status.busy": "2022-03-20T06:00:33.151572Z",
     "iopub.status.idle": "2022-03-20T06:00:33.225814Z",
     "shell.execute_reply": "2022-03-20T06:00:33.225354Z",
     "shell.execute_reply.started": "2022-03-20T05:33:32.370806Z"
    },
    "papermill": {
     "duration": 0.094002,
     "end_time": "2022-03-20T06:00:33.225941",
     "exception": false,
     "start_time": "2022-03-20T06:00:33.131939",
     "status": "completed"
    },
    "tags": []
   },
   "outputs": [],
   "source": [
    "root_dir = \"./train\"\n",
    "import os \n",
    "from PIL import Image\n",
    "imgs_name = os.listdir(root_dir)\n",
    "\n",
    "imgs_path = []\n",
    "labels_data = []\n",
    "\n",
    "for name in imgs_name:\n",
    "    if name[:3] == \"dog\":\n",
    "        label = 0\n",
    "    if name[:3] == \"cat\":\n",
    "        label = 1\n",
    "    img_path = os.path.join(root_dir,name)\n",
    "    imgs_path.append(img_path)\n",
    "    labels_data.append(label)\n"
   ]
  },
  {
   "cell_type": "code",
   "execution_count": 5,
   "id": "afc0b0df",
   "metadata": {
    "execution": {
     "iopub.execute_input": "2022-03-20T06:00:33.258869Z",
     "iopub.status.busy": "2022-03-20T06:00:33.258274Z",
     "iopub.status.idle": "2022-03-20T06:00:34.203982Z",
     "shell.execute_reply": "2022-03-20T06:00:34.203484Z",
     "shell.execute_reply.started": "2022-03-20T05:33:32.458998Z"
    },
    "papermill": {
     "duration": 0.963974,
     "end_time": "2022-03-20T06:00:34.204117",
     "exception": false,
     "start_time": "2022-03-20T06:00:33.240143",
     "status": "completed"
    },
    "tags": []
   },
   "outputs": [],
   "source": [
    "from sklearn.model_selection import train_test_split\n",
    "train_imgs_path,valid_imgs_path,train_labels,valid_labels = train_test_split(imgs_path,labels_data,test_size=0.2,shuffle=True)"
   ]
  },
  {
   "cell_type": "code",
   "execution_count": 6,
   "id": "1d6a8575",
   "metadata": {
    "execution": {
     "iopub.execute_input": "2022-03-20T06:00:34.253460Z",
     "iopub.status.busy": "2022-03-20T06:00:34.252482Z",
     "iopub.status.idle": "2022-03-20T06:00:34.813792Z",
     "shell.execute_reply": "2022-03-20T06:00:34.814236Z",
     "shell.execute_reply.started": "2022-03-20T05:33:32.933991Z"
    },
    "papermill": {
     "duration": 0.59255,
     "end_time": "2022-03-20T06:00:34.814383",
     "exception": false,
     "start_time": "2022-03-20T06:00:34.221833",
     "status": "completed"
    },
    "tags": []
   },
   "outputs": [
    {
     "data": {
      "image/png": "[encoded data removed]",
      "text/plain": [
       "<Figure size 432x288 with 6 Axes>"
      ]
     },
     "metadata": {},
     "output_type": "display_data"
    }
   ],
   "source": [
    "import matplotlib.pyplot as plt\n",
    "fig = plt.figure()\n",
    "\n",
    "for i in range(6):\n",
    "  plt.subplot(2,3,i+1)\n",
    "  plt.tight_layout()\n",
    "  img = Image.open(train_imgs_path[i])\n",
    "  plt.imshow(img, interpolation='none')\n",
    "  plt.title(\"Ground Truth: {}\".format(\"cat\" if train_labels[i]==1 else \"dog\"))\n",
    "  plt.xticks([])\n",
    "  plt.yticks([])\n",
    "plt.show()"
   ]
  },
  {
   "cell_type": "code",
   "execution_count": 7,
   "id": "60dc99d3",
   "metadata": {
    "execution": {
     "iopub.execute_input": "2022-03-20T06:00:34.864270Z",
     "iopub.status.busy": "2022-03-20T06:00:34.863372Z",
     "iopub.status.idle": "2022-03-20T06:00:34.865300Z",
     "shell.execute_reply": "2022-03-20T06:00:34.865795Z",
     "shell.execute_reply.started": "2022-03-20T05:33:33.466245Z"
    },
    "papermill": {
     "duration": 0.033265,
     "end_time": "2022-03-20T06:00:34.865971",
     "exception": false,
     "start_time": "2022-03-20T06:00:34.832706",
     "status": "completed"
    },
    "tags": []
   },
   "outputs": [],
   "source": [
    "import torch\n",
    "from torch.utils.data import Dataset,DataLoader\n",
    "import torchvision\n",
    "from torchvision import datasets,transforms\n",
    "import os \n",
    "from PIL import Image\n",
    "\n",
    "my_transforms = transforms.Compose([\n",
    "    transforms.Resize(75),\n",
    "    transforms.RandomResizedCrop(64), #随机裁剪一个area然后再resize\n",
    "    transforms.RandomHorizontalFlip(), #随机水平翻转\n",
    "    transforms.ToTensor(),\n",
    "    transforms.Normalize(mean=[0.485, 0.456, 0.406], std=[0.229, 0.224, 0.225])\n",
    "])\n",
    "\n",
    "valid_transforms = transforms.Compose([\n",
    "    transforms.Resize((64,64)),\n",
    "    transforms.ToTensor(),\n",
    "    transforms.Normalize(mean=[0.485, 0.456, 0.406], std=[0.229, 0.224, 0.225])\n",
    "])\n",
    "\n",
    "\n",
    "class CatDogDataset(Dataset):\n",
    "    def __init__(self,imgs_path,labels,my_transforms):\n",
    "        self.my_transforms = my_transforms\n",
    "        self.imgs_path = imgs_path\n",
    "        self.labels = labels\n",
    "        self.len = len(self.imgs_path)\n",
    "\n",
    "    def __getitem__(self,index):\n",
    "        img = Image.open(self.imgs_path[index])\n",
    "        return my_transforms(img),self.labels[index]\n",
    "\n",
    "    def __len__(self):\n",
    "        return self.len\n",
    "    \n",
    "train_dataset = CatDogDataset(train_imgs_path,train_labels,my_transforms)\n",
    "valid_dataset = CatDogDataset(valid_imgs_path,valid_labels,valid_transforms)\n",
    "\n",
    "train_loader = DataLoader(train_dataset,1024,shuffle=True,num_workers=2)\n",
    "valid_loader = DataLoader(valid_dataset,512,num_workers=2)"
   ]
  },
  {
   "cell_type": "code",
   "execution_count": 8,
   "id": "d8c947bf",
   "metadata": {
    "execution": {
     "iopub.execute_input": "2022-03-20T06:00:34.912322Z",
     "iopub.status.busy": "2022-03-20T06:00:34.911472Z",
     "iopub.status.idle": "2022-03-20T06:00:38.693893Z",
     "shell.execute_reply": "2022-03-20T06:00:38.693295Z",
     "shell.execute_reply.started": "2022-03-20T05:33:33.480816Z"
    },
    "papermill": {
     "duration": 3.809584,
     "end_time": "2022-03-20T06:00:38.694016",
     "exception": false,
     "start_time": "2022-03-20T06:00:34.884432",
     "status": "completed"
    },
    "tags": []
   },
   "outputs": [],
   "source": [
    "import torch.nn.functional as F\n",
    "class MyNet(nn.Module):\n",
    "    def __init__(self,resnet_feature,vgg_feature):\n",
    "        super(MyNet,self).__init__()\n",
    "        self.resnet_feature=resnet_feature\n",
    "        self.vgg_feature = vgg_feature\n",
    "\n",
    "        self.fc = nn.Sequential(\n",
    "            nn.Linear(1024*2*2,256),\n",
    "            nn.Dropout(0.25),\n",
    "            nn.Linear(256,2)\n",
    "        )\n",
    "    def forward(self,x):\n",
    "        x1 = self.resnet_feature(x)\n",
    "        x2 = self.vgg_feature(x)\n",
    "        x = torch.cat((x1,x2),1)\n",
    "        x = x.view(x.size(0),-1)\n",
    "        x = self.fc(x)\n",
    "        return F.log_softmax(x,dim=1)\n",
    "my_net = MyNet(res_feature,vgg_feature).to(device)"
   ]
  },
  {
   "cell_type": "code",
   "execution_count": 9,
   "id": "c5cf5d53",
   "metadata": {
    "execution": {
     "iopub.execute_input": "2022-03-20T06:00:38.736568Z",
     "iopub.status.busy": "2022-03-20T06:00:38.735005Z",
     "iopub.status.idle": "2022-03-20T06:00:38.737176Z",
     "shell.execute_reply": "2022-03-20T06:00:38.737582Z",
     "shell.execute_reply.started": "2022-03-20T05:33:35.246216Z"
    },
    "papermill": {
     "duration": 0.025826,
     "end_time": "2022-03-20T06:00:38.737733",
     "exception": false,
     "start_time": "2022-03-20T06:00:38.711907",
     "status": "completed"
    },
    "tags": []
   },
   "outputs": [],
   "source": [
    "# a = torch.rand(16,3,64,64).to(device)\n",
    "\n",
    "# b = my_net(a)"
   ]
  },
  {
   "cell_type": "code",
   "execution_count": 10,
   "id": "351b8e74",
   "metadata": {
    "execution": {
     "iopub.execute_input": "2022-03-20T06:00:38.777256Z",
     "iopub.status.busy": "2022-03-20T06:00:38.776599Z",
     "iopub.status.idle": "2022-03-20T06:00:42.814040Z",
     "shell.execute_reply": "2022-03-20T06:00:42.815231Z",
     "shell.execute_reply.started": "2022-03-20T05:33:35.252160Z"
    },
    "papermill": {
     "duration": 4.06026,
     "end_time": "2022-03-20T06:00:42.815450",
     "exception": false,
     "start_time": "2022-03-20T06:00:38.755190",
     "status": "completed"
    },
    "tags": []
   },
   "outputs": [],
   "source": [
    "import torch.optim as optim\n",
    "from torch.utils.tensorboard import SummaryWriter\n",
    "log_writer = SummaryWriter()\n",
    "criterion = nn.CrossEntropyLoss()\n",
    "optimizer = optim.SGD(my_net.parameters(),lr=0.01,momentum=0.9)\n",
    "scheduler = optim.lr_scheduler.CosineAnnealingLR(optimizer,50)\n"
   ]
  },
  {
   "cell_type": "code",
   "execution_count": 11,
   "id": "af4523bd",
   "metadata": {
    "execution": {
     "iopub.execute_input": "2022-03-20T06:00:42.888980Z",
     "iopub.status.busy": "2022-03-20T06:00:42.888144Z",
     "iopub.status.idle": "2022-03-20T08:18:16.519748Z",
     "shell.execute_reply": "2022-03-20T08:18:16.520180Z"
    },
    "papermill": {
     "duration": 8253.67273,
     "end_time": "2022-03-20T08:18:16.520348",
     "exception": false,
     "start_time": "2022-03-20T06:00:42.847618",
     "status": "completed"
    },
    "tags": []
   },
   "outputs": [
    {
     "name": "stdout",
     "output_type": "stream",
     "text": [
      "epoch:0 训练集准确率：0.827，loss：0.361, 验证集：0.903，loss：0.224\n",
      "epoch:1 训练集准确率：0.90495，loss：0.218, 验证集：0.9188，loss：0.202\n",
      "epoch:2 训练集准确率：0.91795，loss：0.188, 验证集：0.9244，loss：0.176\n",
      "epoch:3 训练集准确率：0.92795，loss：0.166, 验证集：0.9306，loss：0.161\n",
      "epoch:4 训练集准确率：0.93205，loss：0.158, 验证集：0.9256，loss：0.174\n",
      "epoch:5 训练集准确率：0.9318，loss：0.158, 验证集：0.9352，loss：0.149\n",
      "epoch:6 训练集准确率：0.93265，loss：0.154, 验证集：0.9252，loss：0.167\n",
      "epoch:7 训练集准确率：0.9381，loss：0.146, 验证集：0.94，loss：0.142\n",
      "epoch:8 训练集准确率：0.9432，loss：0.136, 验证集：0.938，loss：0.145\n",
      "epoch:9 训练集准确率：0.9443，loss：0.13, 验证集：0.9328，loss：0.158\n",
      "epoch:10 训练集准确率：0.946，loss：0.13, 验证集：0.9394，loss：0.142\n",
      "epoch:11 训练集准确率：0.9464，loss：0.126, 验证集：0.9438，loss：0.141\n",
      "epoch:12 训练集准确率：0.94835，loss：0.121, 验证集：0.9446，loss：0.132\n",
      "epoch:13 训练集准确率：0.94925，loss：0.119, 验证集：0.9428，loss：0.134\n",
      "epoch:14 训练集准确率：0.9493，loss：0.12, 验证集：0.9442，loss：0.134\n",
      "epoch:15 训练集准确率：0.9488，loss：0.119, 验证集：0.9416，loss：0.135\n",
      "epoch:16 训练集准确率：0.954，loss：0.111, 验证集：0.9426，loss：0.134\n",
      "epoch:17 训练集准确率：0.9525，loss：0.112, 验证集：0.9436，loss：0.131\n",
      "epoch:18 训练集准确率：0.95045，loss：0.113, 验证集：0.9454，loss：0.125\n",
      "epoch:19 训练集准确率：0.95335，loss：0.113, 验证集：0.9442，loss：0.131\n",
      "epoch:20 训练集准确率：0.95435，loss：0.108, 验证集：0.9412，loss：0.138\n",
      "epoch:21 训练集准确率：0.95465，loss：0.104, 验证集：0.9418，loss：0.141\n",
      "epoch:22 训练集准确率：0.9581，loss：0.0997, 验证集：0.9454，loss：0.133\n",
      "epoch:23 训练集准确率：0.95575，loss：0.103, 验证集：0.9468，loss：0.127\n",
      "epoch:24 训练集准确率：0.95705，loss：0.101, 验证集：0.9478，loss：0.134\n",
      "epoch:25 训练集准确率：0.95675，loss：0.1, 验证集：0.9506，loss：0.118\n",
      "epoch:26 训练集准确率：0.9607，loss：0.0986, 验证集：0.9462，loss：0.135\n",
      "epoch:27 训练集准确率：0.9577，loss：0.0994, 验证集：0.9474，loss：0.129\n",
      "epoch:28 训练集准确率：0.96255，loss：0.0926, 验证集：0.9422，loss：0.142\n",
      "epoch:29 训练集准确率：0.9601，loss：0.0936, 验证集：0.9494，loss：0.133\n",
      "epoch:30 训练集准确率：0.9613，loss：0.0912, 验证集：0.945，loss：0.132\n",
      "epoch:31 训练集准确率：0.96115，loss：0.0917, 验证集：0.9474，loss：0.13\n",
      "epoch:32 训练集准确率：0.9615，loss：0.0938, 验证集：0.9482，loss：0.128\n",
      "epoch:33 训练集准确率：0.96185，loss：0.0899, 验证集：0.9502，loss：0.119\n",
      "epoch:34 训练集准确率：0.9635，loss：0.0881, 验证集：0.949，loss：0.116\n",
      "epoch:35 训练集准确率：0.9631，loss：0.0927, 验证集：0.9466，loss：0.128\n",
      "epoch:36 训练集准确率：0.9642，loss：0.0866, 验证集：0.9524，loss：0.112\n",
      "epoch:37 训练集准确率：0.96215，loss：0.0903, 验证集：0.9476，loss：0.13\n",
      "epoch:38 训练集准确率：0.96285，loss：0.0868, 验证集：0.9516，loss：0.126\n",
      "epoch:39 训练集准确率：0.964，loss：0.0868, 验证集：0.9434，loss：0.134\n",
      "epoch:40 训练集准确率：0.96325，loss：0.0892, 验证集：0.9526，loss：0.123\n",
      "epoch:41 训练集准确率：0.9638，loss：0.0879, 验证集：0.945，loss：0.139\n",
      "epoch:42 训练集准确率：0.9622，loss：0.0878, 验证集：0.9528，loss：0.12\n",
      "epoch:43 训练集准确率：0.9637，loss：0.086, 验证集：0.9524，loss：0.11\n",
      "epoch:44 训练集准确率：0.96395，loss：0.085, 验证集：0.9442，loss：0.125\n",
      "epoch:45 训练集准确率：0.96515，loss：0.0856, 验证集：0.9456，loss：0.125\n",
      "epoch:46 训练集准确率：0.96235，loss：0.0874, 验证集：0.95，loss：0.122\n",
      "epoch:47 训练集准确率：0.96425，loss：0.0869, 验证集：0.948，loss：0.127\n",
      "epoch:48 训练集准确率：0.96515，loss：0.0841, 验证集：0.944，loss：0.124\n",
      "epoch:49 训练集准确率：0.9629，loss：0.089, 验证集：0.9518，loss：0.121\n",
      "epoch:50 训练集准确率：0.96395，loss：0.0856, 验证集：0.9486，loss：0.12\n",
      "epoch:51 训练集准确率：0.9653，loss：0.0831, 验证集：0.948，loss：0.133\n",
      "epoch:52 训练集准确率：0.9632，loss：0.0876, 验证集：0.949，loss：0.123\n",
      "epoch:53 训练集准确率：0.96365，loss：0.0855, 验证集：0.9534，loss：0.125\n",
      "epoch:54 训练集准确率：0.9616，loss：0.0884, 验证集：0.9536，loss：0.123\n",
      "epoch:55 训练集准确率：0.9617，loss：0.0883, 验证集：0.9486，loss：0.121\n",
      "epoch:56 训练集准确率：0.963，loss：0.0901, 验证集：0.9508，loss：0.127\n",
      "epoch:57 训练集准确率：0.9637，loss：0.0867, 验证集：0.9466，loss：0.122\n",
      "epoch:58 训练集准确率：0.96395，loss：0.0887, 验证集：0.9544，loss：0.121\n",
      "epoch:59 训练集准确率：0.963，loss：0.0876, 验证集：0.9428，loss：0.137\n",
      "epoch:60 训练集准确率：0.96555，loss：0.0877, 验证集：0.9476，loss：0.127\n",
      "epoch:61 训练集准确率：0.9634，loss：0.0869, 验证集：0.9464，loss：0.132\n",
      "epoch:62 训练集准确率：0.9644，loss：0.0867, 验证集：0.9484，loss：0.131\n",
      "epoch:63 训练集准确率：0.96315，loss：0.0868, 验证集：0.9548，loss：0.118\n",
      "epoch:64 训练集准确率：0.9628，loss：0.0875, 验证集：0.9452，loss：0.131\n",
      "epoch:65 训练集准确率：0.9639，loss：0.0866, 验证集：0.944，loss：0.126\n",
      "epoch:66 训练集准确率：0.96265，loss：0.0871, 验证集：0.9456，loss：0.133\n",
      "epoch:67 训练集准确率：0.9647，loss：0.0846, 验证集：0.947，loss：0.13\n",
      "epoch:68 训练集准确率：0.96485，loss：0.0839, 验证集：0.945，loss：0.139\n",
      "epoch:69 训练集准确率：0.96575，loss：0.0841, 验证集：0.952，loss：0.121\n",
      "epoch:70 训练集准确率：0.96135，loss：0.0915, 验证集：0.944，loss：0.139\n",
      "epoch:71 训练集准确率：0.9626，loss：0.0903, 验证集：0.9508，loss：0.127\n",
      "epoch:72 训练集准确率：0.96355，loss：0.0857, 验证集：0.9464，loss：0.129\n",
      "epoch:73 训练集准确率：0.9621，loss：0.0877, 验证集：0.9446，loss：0.131\n",
      "epoch:74 训练集准确率：0.9663，loss：0.085, 验证集：0.9498，loss：0.132\n",
      "epoch:75 训练集准确率：0.96365，loss：0.0879, 验证集：0.9506，loss：0.126\n",
      "epoch:76 训练集准确率：0.963，loss：0.0863, 验证集：0.9498，loss：0.123\n",
      "epoch:77 训练集准确率：0.96325，loss：0.0857, 验证集：0.9452，loss：0.133\n",
      "epoch:78 训练集准确率：0.96305，loss：0.0841, 验证集：0.952，loss：0.121\n",
      "epoch:79 训练集准确率：0.96345，loss：0.0876, 验证集：0.9476，loss：0.136\n",
      "epoch:80 训练集准确率：0.9657，loss：0.0828, 验证集：0.9478，loss：0.123\n",
      "epoch:81 训练集准确率：0.9667，loss：0.0803, 验证集：0.952，loss：0.124\n",
      "epoch:82 训练集准确率：0.96575，loss：0.082, 验证集：0.9504，loss：0.132\n",
      "epoch:83 训练集准确率：0.96415，loss：0.0881, 验证集：0.9414，loss：0.139\n",
      "epoch:84 训练集准确率：0.9633，loss：0.0843, 验证集：0.947，loss：0.127\n",
      "epoch:85 训练集准确率：0.96685，loss：0.0813, 验证集：0.946，loss：0.138\n",
      "epoch:86 训练集准确率：0.96255，loss：0.0873, 验证集：0.9508，loss：0.12\n",
      "epoch:87 训练集准确率：0.9653，loss：0.0804, 验证集：0.9488，loss：0.132\n",
      "epoch:88 训练集准确率：0.9654，loss：0.0843, 验证集：0.9452，loss：0.141\n",
      "epoch:89 训练集准确率：0.9652，loss：0.0817, 验证集：0.9492，loss：0.126\n",
      "epoch:90 训练集准确率：0.9663，loss：0.0801, 验证集：0.948，loss：0.128\n",
      "epoch:91 训练集准确率：0.9648，loss：0.0837, 验证集：0.9446，loss：0.149\n",
      "epoch:92 训练集准确率：0.96635，loss：0.0811, 验证集：0.9436，loss：0.152\n",
      "epoch:93 训练集准确率：0.9658，loss：0.0814, 验证集：0.9468，loss：0.139\n",
      "epoch:94 训练集准确率：0.9677，loss：0.0781, 验证集：0.9456，loss：0.143\n",
      "epoch:95 训练集准确率：0.96795，loss：0.0788, 验证集：0.9486，loss：0.129\n",
      "epoch:96 训练集准确率：0.96885，loss：0.0746, 验证集：0.9504，loss：0.131\n",
      "epoch:97 训练集准确率：0.96525，loss：0.0844, 验证集：0.9512，loss：0.119\n",
      "epoch:98 训练集准确率：0.9675，loss：0.0775, 验证集：0.9432，loss：0.145\n",
      "epoch:99 训练集准确率：0.96725，loss：0.078, 验证集：0.95，loss：0.127\n"
     ]
    }
   ],
   "source": [
    "def train_loss_acc():\n",
    "    correct = 0\n",
    "    total = 0\n",
    "    losses = 0\n",
    "    for i,data in enumerate(train_loader):\n",
    "        train_imgs,train_labels = data\n",
    "        train_imgs = train_imgs.to(device)\n",
    "        train_labels = train_labels.to(device)\n",
    "        outputs = my_net(train_imgs)\n",
    "        _,predict_label = torch.max(outputs,1)\n",
    "        total += train_labels.size(0)\n",
    "        correct += (predict_label == train_labels).sum().item()\n",
    "        loss = criterion(outputs,train_labels)\n",
    "        optimizer.zero_grad()\n",
    "        loss.backward()\n",
    "        optimizer.step()\n",
    "        losses += loss.item()\n",
    "\n",
    "    return losses/(i+1),correct/total\n",
    "\n",
    "\n",
    "def valid_loss_acc():\n",
    "    losses = 0\n",
    "    correct = 0\n",
    "    total = 0\n",
    "    for i,data in enumerate(valid_loader):\n",
    "        valid_imgs,valid_labels = data\n",
    "        valid_imgs = valid_imgs.to(device)\n",
    "        valid_labels = valid_labels.to(device)\n",
    "        outputs = my_net(valid_imgs)\n",
    "        loss = criterion(outputs,valid_labels)\n",
    "        losses += loss.item()\n",
    "        _,predict_label = torch.max(outputs,1)\n",
    "        total += valid_labels.size(0)\n",
    "        correct += (predict_label == valid_labels).sum().item()\n",
    "    return losses/(i+1),correct/total\n",
    "\n",
    "for epoch in range(0,100):\n",
    "    \n",
    "    my_net.train()\n",
    "    train_loss,train_acc = train_loss_acc()\n",
    "\n",
    "    log_writer.add_scalar(\"Loss/train\",float(train_loss),epoch)\n",
    "    log_writer.add_scalar(\"Acc/train\",float(train_acc),epoch)\n",
    "\n",
    "    my_net.eval()\n",
    "    valid_loss,valid_acc = valid_loss_acc()\n",
    "    log_writer.add_scalar(\"Loss/valid\",float(valid_loss),epoch)\n",
    "    log_writer.add_scalar(\"Acc/valid\",float(valid_acc),epoch)\n",
    "    \n",
    "    scheduler.step()\n",
    "    # if epoch % 20 == 1:\n",
    "    print(\"epoch:{} 训练集准确率：{}，loss：{:.3}, 验证集：{}，loss：{:.3}\".format(epoch,train_acc,train_loss,valid_acc,valid_loss))\n",
    "        "
   ]
  },
  {
   "cell_type": "code",
   "execution_count": 12,
   "id": "d4eb06af",
   "metadata": {
    "execution": {
     "iopub.execute_input": "2022-03-20T08:18:16.635373Z",
     "iopub.status.busy": "2022-03-20T08:18:16.634764Z",
     "iopub.status.idle": "2022-03-20T08:18:16.859856Z",
     "shell.execute_reply": "2022-03-20T08:18:16.859332Z"
    },
    "papermill": {
     "duration": 0.291515,
     "end_time": "2022-03-20T08:18:16.859981",
     "exception": false,
     "start_time": "2022-03-20T08:18:16.568466",
     "status": "completed"
    },
    "tags": []
   },
   "outputs": [],
   "source": [
    "torch.save(my_net,\"猫狗分类使用resnet做特征提取.h5\")"
   ]
  },
  {
   "cell_type": "code",
   "execution_count": 13,
   "id": "9903764f",
   "metadata": {
    "execution": {
     "iopub.execute_input": "2022-03-20T08:18:16.962772Z",
     "iopub.status.busy": "2022-03-20T08:18:16.961695Z",
     "iopub.status.idle": "2022-03-20T08:18:33.048597Z",
     "shell.execute_reply": "2022-03-20T08:18:33.048077Z"
    },
    "papermill": {
     "duration": 16.140343,
     "end_time": "2022-03-20T08:18:33.048770",
     "exception": false,
     "start_time": "2022-03-20T08:18:16.908427",
     "status": "completed"
    },
    "tags": []
   },
   "outputs": [
    {
     "name": "stdout",
     "output_type": "stream",
     "text": [
      "最终准确率为：0.9488\n"
     ]
    }
   ],
   "source": [
    "my_net.eval()\n",
    "valid_loss,valid_acc = valid_loss_acc()\n",
    "print(\"最终准确率为：{}\".format(valid_acc))"
   ]
  }
 ],
 "metadata": {
  "kernelspec": {
   "display_name": "Python 3",
   "language": "python",
   "name": "python3"
  },
  "language_info": {
   "codemirror_mode": {
    "name": "ipython",
    "version": 3
   },
   "file_extension": ".py",
   "mimetype": "text/x-python",
   "name": "python",
   "nbconvert_exporter": "python",
   "pygments_lexer": "ipython3",
   "version": "3.7.12"
  },
  "papermill": {
   "default_parameters": {},
   "duration": 8308.687192,
   "end_time": "2022-03-20T08:18:36.153615",
   "environment_variables": {},
   "exception": null,
   "input_path": "__notebook__.ipynb",
   "output_path": "__notebook__.ipynb",
   "parameters": {},
   "start_time": "2022-03-20T06:00:07.466423",
   "version": "2.3.3"
  },
  "widgets": {
   "application/vnd.jupyter.widget-state+json": {
    "state": {
     "0943e38ccfd149f59d15c597b87812c2": {
      "model_module": "@jupyter-widgets/controls",
      "model_module_version": "1.5.0",
      "model_name": "DescriptionStyleModel",
      "state": {
       "_model_module": "@jupyter-widgets/controls",
       "_model_module_version": "1.5.0",
       "_model_name": "DescriptionStyleModel",
       "_view_count": null,
       "_view_module": "@jupyter-widgets/base",
       "_view_module_version": "1.2.0",
       "_view_name": "StyleView",
       "description_width": ""
      }
     },
     "0e32944b121e4169b65dbb34e4ec8050": {
      "model_module": "@jupyter-widgets/controls",
      "model_module_version": "1.5.0",
      "model_name": "FloatProgressModel",
      "state": {
       "_dom_classes": [],
       "_model_module": "@jupyter-widgets/controls",
       "_model_module_version": "1.5.0",
       "_model_name": "FloatProgressModel",
       "_view_count": null,
       "_view_module": "@jupyter-widgets/controls",
       "_view_module_version": "1.5.0",
       "_view_name": "ProgressView",
       "bar_style": "success",
       "description": "",
       "description_tooltip": null,
       "layout": "IPY_MODEL_a8883332245b4954b1b62b6224a5458d",
       "max": 553433881,
       "min": 0,
       "orientation": "horizontal",
       "style": "IPY_MODEL_dd328fb049f64ceb9f4ea3b3428fa75a",
       "value": 553433881
      }
     },
     "1dd73e313d724612aa9f2dfc5a4a94e4": {
      "model_module": "@jupyter-widgets/controls",
      "model_module_version": "1.5.0",
      "model_name": "HTMLModel",
      "state": {
       "_dom_classes": [],
       "_model_module": "@jupyter-widgets/controls",
       "_model_module_version": "1.5.0",
       "_model_name": "HTMLModel",
       "_view_count": null,
       "_view_module": "@jupyter-widgets/controls",
       "_view_module_version": "1.5.0",
       "_view_name": "HTMLView",
       "description": "",
       "description_tooltip": null,
       "layout": "IPY_MODEL_7e1d5374a05449f7b48c0078612fa2a1",
       "placeholder": "​",
       "style": "IPY_MODEL_42d6397ba0884997ab7315f2f373099d",
       "value": "100%"
      }
     },
     "2c2b5f52e4fb47e6b7b3429b205ee5bb": {
      "model_module": "@jupyter-widgets/base",
      "model_module_version": "1.2.0",
      "model_name": "LayoutModel",
      "state": {
       "_model_module": "@jupyter-widgets/base",
       "_model_module_version": "1.2.0",
       "_model_name": "LayoutModel",
       "_view_count": null,
       "_view_module": "@jupyter-widgets/base",
       "_view_module_version": "1.2.0",
       "_view_name": "LayoutView",
       "align_content": null,
       "align_items": null,
       "align_self": null,
       "border": null,
       "bottom": null,
       "display": null,
       "flex": null,
       "flex_flow": null,
       "grid_area": null,
       "grid_auto_columns": null,
       "grid_auto_flow": null,
       "grid_auto_rows": null,
       "grid_column": null,
       "grid_gap": null,
       "grid_row": null,
       "grid_template_areas": null,
       "grid_template_columns": null,
       "grid_template_rows": null,
       "height": null,
       "justify_content": null,
       "justify_items": null,
       "left": null,
       "margin": null,
       "max_height": null,
       "max_width": null,
       "min_height": null,
       "min_width": null,
       "object_fit": null,
       "object_position": null,
       "order": null,
       "overflow": null,
       "overflow_x": null,
       "overflow_y": null,
       "padding": null,
       "right": null,
       "top": null,
       "visibility": null,
       "width": null
      }
     },
     "2f4536f7878a482a9a3db0c812bf265f": {
      "model_module": "@jupyter-widgets/base",
      "model_module_version": "1.2.0",
      "model_name": "LayoutModel",
      "state": {
       "_model_module": "@jupyter-widgets/base",
       "_model_module_version": "1.2.0",
       "_model_name": "LayoutModel",
       "_view_count": null,
       "_view_module": "@jupyter-widgets/base",
       "_view_module_version": "1.2.0",
       "_view_name": "LayoutView",
       "align_content": null,
       "align_items": null,
       "align_self": null,
       "border": null,
       "bottom": null,
       "display": null,
       "flex": null,
       "flex_flow": null,
       "grid_area": null,
       "grid_auto_columns": null,
       "grid_auto_flow": null,
       "grid_auto_rows": null,
       "grid_column": null,
       "grid_gap": null,
       "grid_row": null,
       "grid_template_areas": null,
       "grid_template_columns": null,
       "grid_template_rows": null,
       "height": null,
       "justify_content": null,
       "justify_items": null,
       "left": null,
       "margin": null,
       "max_height": null,
       "max_width": null,
       "min_height": null,
       "min_width": null,
       "object_fit": null,
       "object_position": null,
       "order": null,
       "overflow": null,
       "overflow_x": null,
       "overflow_y": null,
       "padding": null,
       "right": null,
       "top": null,
       "visibility": null,
       "width": null
      }
     },
     "33dba6f988d54dcf8422c41978eed95a": {
      "model_module": "@jupyter-widgets/controls",
      "model_module_version": "1.5.0",
      "model_name": "HTMLModel",
      "state": {
       "_dom_classes": [],
       "_model_module": "@jupyter-widgets/controls",
       "_model_module_version": "1.5.0",
       "_model_name": "HTMLModel",
       "_view_count": null,
       "_view_module": "@jupyter-widgets/controls",
       "_view_module_version": "1.5.0",
       "_view_name": "HTMLView",
       "description": "",
       "description_tooltip": null,
       "layout": "IPY_MODEL_dd9e7ee65b8c44f1aec9b2065e26f913",
       "placeholder": "​",
       "style": "IPY_MODEL_b5dc79c7dea7492aadfbb6e1e8be52f8",
       "value": " 528M/528M [00:02&lt;00:00, 241MB/s]"
      }
     },
     "396f7d5a504c404bbcefde7dde8982ec": {
      "model_module": "@jupyter-widgets/controls",
      "model_module_version": "1.5.0",
      "model_name": "ProgressStyleModel",
      "state": {
       "_model_module": "@jupyter-widgets/controls",
       "_model_module_version": "1.5.0",
       "_model_name": "ProgressStyleModel",
       "_view_count": null,
       "_view_module": "@jupyter-widgets/base",
       "_view_module_version": "1.2.0",
       "_view_name": "StyleView",
       "bar_color": null,
       "description_width": ""
      }
     },
     "42d6397ba0884997ab7315f2f373099d": {
      "model_module": "@jupyter-widgets/controls",
      "model_module_version": "1.5.0",
      "model_name": "DescriptionStyleModel",
      "state": {
       "_model_module": "@jupyter-widgets/controls",
       "_model_module_version": "1.5.0",
       "_model_name": "DescriptionStyleModel",
       "_view_count": null,
       "_view_module": "@jupyter-widgets/base",
       "_view_module_version": "1.2.0",
       "_view_name": "StyleView",
       "description_width": ""
      }
     },
     "50a0f863abad42ccbc60176fb1005e55": {
      "model_module": "@jupyter-widgets/controls",
      "model_module_version": "1.5.0",
      "model_name": "HTMLModel",
      "state": {
       "_dom_classes": [],
       "_model_module": "@jupyter-widgets/controls",
       "_model_module_version": "1.5.0",
       "_model_name": "HTMLModel",
       "_view_count": null,
       "_view_module": "@jupyter-widgets/controls",
       "_view_module_version": "1.5.0",
       "_view_name": "HTMLView",
       "description": "",
       "description_tooltip": null,
       "layout": "IPY_MODEL_c445f416ba78499494d8cef0a819d957",
       "placeholder": "​",
       "style": "IPY_MODEL_0943e38ccfd149f59d15c597b87812c2",
       "value": "100%"
      }
     },
     "59b542543be14da99bdc85b2d8fd0adf": {
      "model_module": "@jupyter-widgets/controls",
      "model_module_version": "1.5.0",
      "model_name": "HTMLModel",
      "state": {
       "_dom_classes": [],
       "_model_module": "@jupyter-widgets/controls",
       "_model_module_version": "1.5.0",
       "_model_name": "HTMLModel",
       "_view_count": null,
       "_view_module": "@jupyter-widgets/controls",
       "_view_module_version": "1.5.0",
       "_view_name": "HTMLView",
       "description": "",
       "description_tooltip": null,
       "layout": "IPY_MODEL_b34e8d387aa145b0b4f257d0074f3fd9",
       "placeholder": "​",
       "style": "IPY_MODEL_f2bcff2391a443caa42c708e7bc4c77d",
       "value": " 83.3M/83.3M [00:00&lt;00:00, 205MB/s]"
      }
     },
     "7e1d5374a05449f7b48c0078612fa2a1": {
      "model_module": "@jupyter-widgets/base",
      "model_module_version": "1.2.0",
      "model_name": "LayoutModel",
      "state": {
       "_model_module": "@jupyter-widgets/base",
       "_model_module_version": "1.2.0",
       "_model_name": "LayoutModel",
       "_view_count": null,
       "_view_module": "@jupyter-widgets/base",
       "_view_module_version": "1.2.0",
       "_view_name": "LayoutView",
       "align_content": null,
       "align_items": null,
       "align_self": null,
       "border": null,
       "bottom": null,
       "display": null,
       "flex": null,
       "flex_flow": null,
       "grid_area": null,
       "grid_auto_columns": null,
       "grid_auto_flow": null,
       "grid_auto_rows": null,
       "grid_column": null,
       "grid_gap": null,
       "grid_row": null,
       "grid_template_areas": null,
       "grid_template_columns": null,
       "grid_template_rows": null,
       "height": null,
       "justify_content": null,
       "justify_items": null,
       "left": null,
       "margin": null,
       "max_height": null,
       "max_width": null,
       "min_height": null,
       "min_width": null,
       "object_fit": null,
       "object_position": null,
       "order": null,
       "overflow": null,
       "overflow_x": null,
       "overflow_y": null,
       "padding": null,
       "right": null,
       "top": null,
       "visibility": null,
       "width": null
      }
     },
     "a8883332245b4954b1b62b6224a5458d": {
      "model_module": "@jupyter-widgets/base",
      "model_module_version": "1.2.0",
      "model_name": "LayoutModel",
      "state": {
       "_model_module": "@jupyter-widgets/base",
       "_model_module_version": "1.2.0",
       "_model_name": "LayoutModel",
       "_view_count": null,
       "_view_module": "@jupyter-widgets/base",
       "_view_module_version": "1.2.0",
       "_view_name": "LayoutView",
       "align_content": null,
       "align_items": null,
       "align_self": null,
       "border": null,
       "bottom": null,
       "display": null,
       "flex": null,
       "flex_flow": null,
       "grid_area": null,
       "grid_auto_columns": null,
       "grid_auto_flow": null,
       "grid_auto_rows": null,
       "grid_column": null,
       "grid_gap": null,
       "grid_row": null,
       "grid_template_areas": null,
       "grid_template_columns": null,
       "grid_template_rows": null,
       "height": null,
       "justify_content": null,
       "justify_items": null,
       "left": null,
       "margin": null,
       "max_height": null,
       "max_width": null,
       "min_height": null,
       "min_width": null,
       "object_fit": null,
       "object_position": null,
       "order": null,
       "overflow": null,
       "overflow_x": null,
       "overflow_y": null,
       "padding": null,
       "right": null,
       "top": null,
       "visibility": null,
       "width": null
      }
     },
     "b258753553fe41459036587d09015fc2": {
      "model_module": "@jupyter-widgets/controls",
      "model_module_version": "1.5.0",
      "model_name": "HBoxModel",
      "state": {
       "_dom_classes": [],
       "_model_module": "@jupyter-widgets/controls",
       "_model_module_version": "1.5.0",
       "_model_name": "HBoxModel",
       "_view_count": null,
       "_view_module": "@jupyter-widgets/controls",
       "_view_module_version": "1.5.0",
       "_view_name": "HBoxView",
       "box_style": "",
       "children": [
        "IPY_MODEL_50a0f863abad42ccbc60176fb1005e55",
        "IPY_MODEL_c9adec29a13544f0907fa8e988e398ef",
        "IPY_MODEL_59b542543be14da99bdc85b2d8fd0adf"
       ],
       "layout": "IPY_MODEL_2f4536f7878a482a9a3db0c812bf265f"
      }
     },
     "b34e8d387aa145b0b4f257d0074f3fd9": {
      "model_module": "@jupyter-widgets/base",
      "model_module_version": "1.2.0",
      "model_name": "LayoutModel",
      "state": {
       "_model_module": "@jupyter-widgets/base",
       "_model_module_version": "1.2.0",
       "_model_name": "LayoutModel",
       "_view_count": null,
       "_view_module": "@jupyter-widgets/base",
       "_view_module_version": "1.2.0",
       "_view_name": "LayoutView",
       "align_content": null,
       "align_items": null,
       "align_self": null,
       "border": null,
       "bottom": null,
       "display": null,
       "flex": null,
       "flex_flow": null,
       "grid_area": null,
       "grid_auto_columns": null,
       "grid_auto_flow": null,
       "grid_auto_rows": null,
       "grid_column": null,
       "grid_gap": null,
       "grid_row": null,
       "grid_template_areas": null,
       "grid_template_columns": null,
       "grid_template_rows": null,
       "height": null,
       "justify_content": null,
       "justify_items": null,
       "left": null,
       "margin": null,
       "max_height": null,
       "max_width": null,
       "min_height": null,
       "min_width": null,
       "object_fit": null,
       "object_position": null,
       "order": null,
       "overflow": null,
       "overflow_x": null,
       "overflow_y": null,
       "padding": null,
       "right": null,
       "top": null,
       "visibility": null,
       "width": null
      }
     },
     "b5dc79c7dea7492aadfbb6e1e8be52f8": {
      "model_module": "@jupyter-widgets/controls",
      "model_module_version": "1.5.0",
      "model_name": "DescriptionStyleModel",
      "state": {
       "_model_module": "@jupyter-widgets/controls",
       "_model_module_version": "1.5.0",
       "_model_name": "DescriptionStyleModel",
       "_view_count": null,
       "_view_module": "@jupyter-widgets/base",
       "_view_module_version": "1.2.0",
       "_view_name": "StyleView",
       "description_width": ""
      }
     },
     "c445f416ba78499494d8cef0a819d957": {
      "model_module": "@jupyter-widgets/base",
      "model_module_version": "1.2.0",
      "model_name": "LayoutModel",
      "state": {
       "_model_module": "@jupyter-widgets/base",
       "_model_module_version": "1.2.0",
       "_model_name": "LayoutModel",
       "_view_count": null,
       "_view_module": "@jupyter-widgets/base",
       "_view_module_version": "1.2.0",
       "_view_name": "LayoutView",
       "align_content": null,
       "align_items": null,
       "align_self": null,
       "border": null,
       "bottom": null,
       "display": null,
       "flex": null,
       "flex_flow": null,
       "grid_area": null,
       "grid_auto_columns": null,
       "grid_auto_flow": null,
       "grid_auto_rows": null,
       "grid_column": null,
       "grid_gap": null,
       "grid_row": null,
       "grid_template_areas": null,
       "grid_template_columns": null,
       "grid_template_rows": null,
       "height": null,
       "justify_content": null,
       "justify_items": null,
       "left": null,
       "margin": null,
       "max_height": null,
       "max_width": null,
       "min_height": null,
       "min_width": null,
       "object_fit": null,
       "object_position": null,
       "order": null,
       "overflow": null,
       "overflow_x": null,
       "overflow_y": null,
       "padding": null,
       "right": null,
       "top": null,
       "visibility": null,
       "width": null
      }
     },
     "c9adec29a13544f0907fa8e988e398ef": {
      "model_module": "@jupyter-widgets/controls",
      "model_module_version": "1.5.0",
      "model_name": "FloatProgressModel",
      "state": {
       "_dom_classes": [],
       "_model_module": "@jupyter-widgets/controls",
       "_model_module_version": "1.5.0",
       "_model_name": "FloatProgressModel",
       "_view_count": null,
       "_view_module": "@jupyter-widgets/controls",
       "_view_module_version": "1.5.0",
       "_view_name": "ProgressView",
       "bar_style": "success",
       "description": "",
       "description_tooltip": null,
       "layout": "IPY_MODEL_2c2b5f52e4fb47e6b7b3429b205ee5bb",
       "max": 87319819,
       "min": 0,
       "orientation": "horizontal",
       "style": "IPY_MODEL_396f7d5a504c404bbcefde7dde8982ec",
       "value": 87319819
      }
     },
     "ccde548b16014cb880db21743f12565a": {
      "model_module": "@jupyter-widgets/base",
      "model_module_version": "1.2.0",
      "model_name": "LayoutModel",
      "state": {
       "_model_module": "@jupyter-widgets/base",
       "_model_module_version": "1.2.0",
       "_model_name": "LayoutModel",
       "_view_count": null,
       "_view_module": "@jupyter-widgets/base",
       "_view_module_version": "1.2.0",
       "_view_name": "LayoutView",
       "align_content": null,
       "align_items": null,
       "align_self": null,
       "border": null,
       "bottom": null,
       "display": null,
       "flex": null,
       "flex_flow": null,
       "grid_area": null,
       "grid_auto_columns": null,
       "grid_auto_flow": null,
       "grid_auto_rows": null,
       "grid_column": null,
       "grid_gap": null,
       "grid_row": null,
       "grid_template_areas": null,
       "grid_template_columns": null,
       "grid_template_rows": null,
       "height": null,
       "justify_content": null,
       "justify_items": null,
       "left": null,
       "margin": null,
       "max_height": null,
       "max_width": null,
       "min_height": null,
       "min_width": null,
       "object_fit": null,
       "object_position": null,
       "order": null,
       "overflow": null,
       "overflow_x": null,
       "overflow_y": null,
       "padding": null,
       "right": null,
       "top": null,
       "visibility": null,
       "width": null
      }
     },
     "cf12582c171f4aeda5d925f856d802e2": {
      "model_module": "@jupyter-widgets/controls",
      "model_module_version": "1.5.0",
      "model_name": "HBoxModel",
      "state": {
       "_dom_classes": [],
       "_model_module": "@jupyter-widgets/controls",
       "_model_module_version": "1.5.0",
       "_model_name": "HBoxModel",
       "_view_count": null,
       "_view_module": "@jupyter-widgets/controls",
       "_view_module_version": "1.5.0",
       "_view_name": "HBoxView",
       "box_style": "",
       "children": [
        "IPY_MODEL_1dd73e313d724612aa9f2dfc5a4a94e4",
        "IPY_MODEL_0e32944b121e4169b65dbb34e4ec8050",
        "IPY_MODEL_33dba6f988d54dcf8422c41978eed95a"
       ],
       "layout": "IPY_MODEL_ccde548b16014cb880db21743f12565a"
      }
     },
     "dd328fb049f64ceb9f4ea3b3428fa75a": {
      "model_module": "@jupyter-widgets/controls",
      "model_module_version": "1.5.0",
      "model_name": "ProgressStyleModel",
      "state": {
       "_model_module": "@jupyter-widgets/controls",
       "_model_module_version": "1.5.0",
       "_model_name": "ProgressStyleModel",
       "_view_count": null,
       "_view_module": "@jupyter-widgets/base",
       "_view_module_version": "1.2.0",
       "_view_name": "StyleView",
       "bar_color": null,
       "description_width": ""
      }
     },
     "dd9e7ee65b8c44f1aec9b2065e26f913": {
      "model_module": "@jupyter-widgets/base",
      "model_module_version": "1.2.0",
      "model_name": "LayoutModel",
      "state": {
       "_model_module": "@jupyter-widgets/base",
       "_model_module_version": "1.2.0",
       "_model_name": "LayoutModel",
       "_view_count": null,
       "_view_module": "@jupyter-widgets/base",
       "_view_module_version": "1.2.0",
       "_view_name": "LayoutView",
       "align_content": null,
       "align_items": null,
       "align_self": null,
       "border": null,
       "bottom": null,
       "display": null,
       "flex": null,
       "flex_flow": null,
       "grid_area": null,
       "grid_auto_columns": null,
       "grid_auto_flow": null,
       "grid_auto_rows": null,
       "grid_column": null,
       "grid_gap": null,
       "grid_row": null,
       "grid_template_areas": null,
       "grid_template_columns": null,
       "grid_template_rows": null,
       "height": null,
       "justify_content": null,
       "justify_items": null,
       "left": null,
       "margin": null,
       "max_height": null,
       "max_width": null,
       "min_height": null,
       "min_width": null,
       "object_fit": null,
       "object_position": null,
       "order": null,
       "overflow": null,
       "overflow_x": null,
       "overflow_y": null,
       "padding": null,
       "right": null,
       "top": null,
       "visibility": null,
       "width": null
      }
     },
     "f2bcff2391a443caa42c708e7bc4c77d": {
      "model_module": "@jupyter-widgets/controls",
      "model_module_version": "1.5.0",
      "model_name": "DescriptionStyleModel",
      "state": {
       "_model_module": "@jupyter-widgets/controls",
       "_model_module_version": "1.5.0",
       "_model_name": "DescriptionStyleModel",
       "_view_count": null,
       "_view_module": "@jupyter-widgets/base",
       "_view_module_version": "1.2.0",
       "_view_name": "StyleView",
       "description_width": ""
      }
     }
    },
    "version_major": 2,
    "version_minor": 0
   }
  }
 },
 "nbformat": 4,
 "nbformat_minor": 5
}
