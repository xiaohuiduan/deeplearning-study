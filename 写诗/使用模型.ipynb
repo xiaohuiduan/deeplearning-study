{
 "cells": [
  {
   "cell_type": "code",
   "execution_count": 1,
   "metadata": {},
   "outputs": [
    {
     "data": {
      "text/plain": [
       "['ix2word', 'word2ix', 'data']"
      ]
     },
     "execution_count": 1,
     "metadata": {},
     "output_type": "execute_result"
    }
   ],
   "source": [
    "import numpy as np\n",
    "\n",
    "tang_file = np.load(\"tang.npz\",allow_pickle=True)\n",
    "tang_file.files"
   ]
  },
  {
   "cell_type": "code",
   "execution_count": 2,
   "metadata": {},
   "outputs": [],
   "source": [
    "word2ix = tang_file['word2ix'].item()\n",
    "idx2word = tang_file['ix2word'].item()"
   ]
  },
  {
   "cell_type": "code",
   "execution_count": 3,
   "metadata": {},
   "outputs": [
    {
     "name": "stderr",
     "output_type": "stream",
     "text": [
      "/home/stephen/anaconda3/envs/torch/lib/python3.9/site-packages/tqdm/auto.py:22: TqdmWarning: IProgress not found. Please update jupyter and ipywidgets. See https://ipywidgets.readthedocs.io/en/stable/user_install.html\n",
      "  from .autonotebook import tqdm as notebook_tqdm\n"
     ]
    }
   ],
   "source": [
    "import torch\n",
    "import torch.nn.functional as F\n",
    "import torch.nn as nn\n",
    "class PoemNet(nn.Module):\n",
    "    def __init__(self, vocab_size, embedding_dim, hidden_dim):\n",
    "        \"\"\"\n",
    "            vocab_size：训练集合字典大小\n",
    "            embedding_dim：word2vec的维度\n",
    "            hidden_dim：LSTM的hidden_dim\n",
    "        \"\"\"\n",
    "        super(PoemNet, self).__init__()\n",
    "        self.hidden_dim = hidden_dim\n",
    "        self.embeddings = nn.Embedding(vocab_size, embedding_dim)\n",
    "        self.lstm = nn.LSTM(embedding_dim, self.hidden_dim,batch_first=True)\n",
    "\n",
    "        self.fc = nn.Sequential(\n",
    "            nn.Linear(self.hidden_dim,2048),\n",
    "            nn.ReLU(),\n",
    "            nn.Dropout(0.25),\n",
    "            \n",
    "            nn.Linear(2048,4096),\n",
    "            nn.Dropout(0.2),\n",
    "            nn.ReLU(),\n",
    "            nn.Linear(4096,vocab_size),\n",
    "        )\n",
    "\n",
    "    def forward(self, input,hidden=None):\n",
    "        \"\"\"\n",
    "            input：输入的诗词\n",
    "            hidden：在生成诗词的时候需要使用，在pytorch中，，如果不指定初始状态h_0和C_0，则其\n",
    "            默认为0.\n",
    "            pytorch的LSTM的输出是(output,(h_n,c_n))。实际上，output就是h_1,h_2,……h_n\n",
    "        \"\"\"\n",
    "        embeds = self.embeddings(input)\n",
    "        batch_size, seq_len = input.size()\n",
    "        if hidden is None:\n",
    "            output, hidden = self.lstm(embeds)\n",
    "        else:\n",
    "            # h_0,c_0 = hidden\n",
    "            output, hidden = self.lstm(embeds,hidden)\n",
    "    \n",
    "        output = self.fc(output)\n",
    "        output = output.reshape(batch_size * seq_len, -1)\n",
    "        output = F.log_softmax(output,dim=1)\n",
    "        return output,hidden"
   ]
  },
  {
   "cell_type": "code",
   "execution_count": 4,
   "metadata": {},
   "outputs": [],
   "source": [
    "device = torch.device(\"cuda:0\" if torch.cuda.is_available() else \"cpu\")\n",
    "my_net = torch.load(\"model.h5\").to(device)"
   ]
  },
  {
   "cell_type": "markdown",
   "metadata": {},
   "source": [
    "生成一首诗 `<START>南楼夜已寂，暗鸟动林间。不见城郭事，沈沈唯四山。<EOP>'`"
   ]
  },
  {
   "cell_type": "code",
   "execution_count": 5,
   "metadata": {},
   "outputs": [
    {
     "data": {
      "text/plain": [
       "PoemNet(\n",
       "  (embeddings): Embedding(8293, 200)\n",
       "  (lstm): LSTM(200, 1024, batch_first=True)\n",
       "  (fc): Sequential(\n",
       "    (0): Linear(in_features=1024, out_features=2048, bias=True)\n",
       "    (1): ReLU()\n",
       "    (2): Dropout(p=0.25, inplace=False)\n",
       "    (3): Linear(in_features=2048, out_features=4096, bias=True)\n",
       "    (4): Dropout(p=0.2, inplace=False)\n",
       "    (5): ReLU()\n",
       "    (6): Linear(in_features=4096, out_features=8293, bias=True)\n",
       "  )\n",
       ")"
      ]
     },
     "execution_count": 5,
     "metadata": {},
     "output_type": "execute_result"
    }
   ],
   "source": [
    "my_net.eval()"
   ]
  },
  {
   "cell_type": "code",
   "execution_count": 6,
   "metadata": {},
   "outputs": [
    {
     "data": {
      "text/plain": [
       "'睡觉寒炉火，晨钟坐中朝。炉烟沾煖露，池月静清砧。自有传心法，曾无住处传。不知尘世隔，一觉一壺秋。皎洁垂银液，浮航入绿醪。谁知旧邻里，相对似相亲。'"
      ]
     },
     "execution_count": 6,
     "metadata": {},
     "output_type": "execute_result"
    }
   ],
   "source": [
    "def generate_poem(my_words,max_len=128):\n",
    "    '''\n",
    "        根据前文my_words生成一首诗。max_len表示生成诗的最大长度。\n",
    "    '''\n",
    "\n",
    "    def __generate_next(idx,hidden=None):\n",
    "        \"\"\"\n",
    "            根据input和hidden输出下一个预测词\n",
    "        \"\"\"\n",
    "        input = torch.Tensor([idx]).view(1,1).long().to(device)\n",
    "        output,hidden = my_net(input,hidden)\n",
    "        return output,hidden\n",
    "\n",
    "    # 初始化hidden状态\n",
    "    output,hidden = __generate_next(word2ix[\"<START>\"])\n",
    "    my_words_len = len(my_words)\n",
    "    result = []\n",
    "    for word in my_words:\n",
    "        result.append(word)\n",
    "        # 积累hidden状态（h & c）\n",
    "        output,hidden = __generate_next(word2ix[word],hidden)\n",
    "    \n",
    "    _,top_index = torch.max(output,1)\n",
    "\n",
    "    word = idx2word[top_index[0].item()]\n",
    "\n",
    "    result.append(word)\n",
    "\n",
    "    for i in range(max_len-my_words_len):\n",
    "        output,hidden = __generate_next(top_index[0].item(),hidden)\n",
    "\n",
    "        _,top_index = torch.max(output,1)\n",
    "        if top_index[0].item() == word2ix['<EOP>']: # 如果诗词已经预测到结尾\n",
    "            break\n",
    "        word = idx2word[top_index[0].item()]\n",
    "        result.append(word)\n",
    "    return \"\".join(result)\n",
    "\n",
    "generate_poem(\"睡觉\")"
   ]
  },
  {
   "cell_type": "code",
   "execution_count": 9,
   "metadata": {},
   "outputs": [
    {
     "name": "stdout",
     "output_type": "stream",
     "text": [
      "滚发初生光，三乘如太白。\n",
      "去去冥冥没，冥茫寄天海。\n",
      "读书三十年，手把棼琴策。\n",
      "书罢华省郎，忧人惜凋病。\n"
     ]
    }
   ],
   "source": [
    "def acrostic_poetry(my_words):\n",
    "    def __generate_next(idx,hidden=None):\n",
    "        \"\"\"\n",
    "            根据input和hidden输出下一个预测词\n",
    "        \"\"\"\n",
    "        input = torch.Tensor([idx]).view(1,1).long().to(device)\n",
    "        output,hidden = my_net(input,hidden)\n",
    "        return output,hidden\n",
    "\n",
    "    def __generate(word,hidden):\n",
    "        \"\"\"\n",
    "            根据word生成一句诗（以“。”结尾的话） 如根据床生成“床前明月光，凝是地上霜。”\n",
    "        \"\"\"\n",
    "        generate_word = word2ix[word]\n",
    "        sentence = []\n",
    "        sentence.append(word)\n",
    "        while generate_word != word2ix[\"。\"]: \n",
    "            output,hidden = __generate_next(generate_word,hidden)\n",
    "            _,top_index = torch.max(output,1)\n",
    "            generate_word = top_index[0].item()\n",
    "            sentence.append(idx2word[generate_word])\n",
    "        # 根据\"。\"生成下一个隐状态。\n",
    "        _,hidden = __generate_next(generate_word,hidden)\n",
    "        return sentence,hidden\n",
    "\n",
    "    _,hidden = __generate_next(word2ix[\"<START>\"])\n",
    "    result = []\n",
    "    for word in my_words:\n",
    "        sentence,hidden = __generate(word,hidden)\n",
    "        result.append(\"\".join(sentence))\n",
    "    print(\"\\n\".join(result))\n",
    "\n",
    "acrostic_poetry(\"滚去读书\")"
   ]
  }
 ],
 "metadata": {
  "interpreter": {
   "hash": "d3be265be7e6d8355c6771ed6f5e3c6e103454948ecd1fb9d192c1aed121a72a"
  },
  "kernelspec": {
   "display_name": "Python 3.8.12 ('torch')",
   "language": "python",
   "name": "python3"
  },
  "language_info": {
   "codemirror_mode": {
    "name": "ipython",
    "version": 3
   },
   "file_extension": ".py",
   "mimetype": "text/x-python",
   "name": "python",
   "nbconvert_exporter": "python",
   "pygments_lexer": "ipython3",
   "version": "3.9.7"
  },
  "orig_nbformat": 4
 },
 "nbformat": 4,
 "nbformat_minor": 2
}
