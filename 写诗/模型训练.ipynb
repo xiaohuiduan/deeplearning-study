{
 "cells": [
  {
   "cell_type": "code",
   "execution_count": 1,
   "id": "6bf6b6e5",
   "metadata": {
    "execution": {
     "iopub.execute_input": "2022-03-31T04:26:11.183256Z",
     "iopub.status.busy": "2022-03-31T04:26:11.181775Z",
     "iopub.status.idle": "2022-03-31T04:26:11.212030Z",
     "shell.execute_reply": "2022-03-31T04:26:11.212464Z",
     "shell.execute_reply.started": "2022-03-31T04:22:44.878789Z"
    },
    "papermill": {
     "duration": 0.054832,
     "end_time": "2022-03-31T04:26:11.212674",
     "exception": false,
     "start_time": "2022-03-31T04:26:11.157842",
     "status": "completed"
    },
    "tags": []
   },
   "outputs": [
    {
     "data": {
      "text/plain": [
       "['ix2word', 'word2ix', 'data']"
      ]
     },
     "execution_count": 1,
     "metadata": {},
     "output_type": "execute_result"
    }
   ],
   "source": [
    "import numpy as np\n",
    "\n",
    "tang_file = np.load(\"tang.npz\",allow_pickle=True)\n",
    "tang_file.files"
   ]
  },
  {
   "cell_type": "code",
   "execution_count": 2,
   "id": "9b666e91",
   "metadata": {
    "execution": {
     "iopub.execute_input": "2022-03-31T04:26:11.256385Z",
     "iopub.status.busy": "2022-03-31T04:26:11.255585Z",
     "iopub.status.idle": "2022-03-31T04:26:11.445645Z",
     "shell.execute_reply": "2022-03-31T04:26:11.446827Z",
     "shell.execute_reply.started": "2022-03-31T04:22:44.890688Z"
    },
    "papermill": {
     "duration": 0.214013,
     "end_time": "2022-03-31T04:26:11.447024",
     "exception": false,
     "start_time": "2022-03-31T04:26:11.233011",
     "status": "completed"
    },
    "tags": []
   },
   "outputs": [],
   "source": [
    "data = tang_file['data']\n",
    "word2ix = tang_file['word2ix'].item()\n",
    "idx2word = tang_file['ix2word'].item()"
   ]
  },
  {
   "cell_type": "code",
   "execution_count": 3,
   "id": "4feab79a",
   "metadata": {
    "execution": {
     "iopub.execute_input": "2022-03-31T04:26:11.495465Z",
     "iopub.status.busy": "2022-03-31T04:26:11.494443Z",
     "iopub.status.idle": "2022-03-31T04:26:11.496652Z",
     "shell.execute_reply": "2022-03-31T04:26:11.497160Z",
     "shell.execute_reply.started": "2022-03-31T04:22:45.016941Z"
    },
    "papermill": {
     "duration": 0.028725,
     "end_time": "2022-03-31T04:26:11.497305",
     "exception": false,
     "start_time": "2022-03-31T04:26:11.468580",
     "status": "completed"
    },
    "tags": []
   },
   "outputs": [],
   "source": [
    "def idx2poem(idx_poem):\n",
    "    poem = []\n",
    "    for id in idx_poem:\n",
    "        poem.append(idx2word[id])\n",
    "    return \"\".join(poem)"
   ]
  },
  {
   "cell_type": "code",
   "execution_count": 4,
   "id": "4db5657e",
   "metadata": {
    "execution": {
     "iopub.execute_input": "2022-03-31T04:26:11.544977Z",
     "iopub.status.busy": "2022-03-31T04:26:11.544091Z",
     "iopub.status.idle": "2022-03-31T04:26:11.547365Z",
     "shell.execute_reply": "2022-03-31T04:26:11.547833Z",
     "shell.execute_reply.started": "2022-03-31T04:22:45.024478Z"
    },
    "papermill": {
     "duration": 0.029239,
     "end_time": "2022-03-31T04:26:11.547958",
     "exception": false,
     "start_time": "2022-03-31T04:26:11.518719",
     "status": "completed"
    },
    "tags": []
   },
   "outputs": [
    {
     "data": {
      "text/plain": [
       "'</s></s></s></s></s></s></s></s></s></s></s></s></s></s></s></s></s></s></s></s></s></s></s></s></s></s></s></s></s></s></s></s></s></s></s></s></s></s></s></s></s></s></s></s></s></s></s></s></s></s></s></s></s></s></s></s></s></s></s></s></s></s></s></s></s></s></s></s></s></s></s></s></s></s></s></s></s></s></s></s></s></s></s></s></s></s></s></s></s></s></s></s></s></s></s></s></s></s></s><START>南楼夜已寂，暗鸟动林间。不见城郭事，沈沈唯四山。<EOP>'"
      ]
     },
     "execution_count": 4,
     "metadata": {},
     "output_type": "execute_result"
    }
   ],
   "source": [
    "idx2poem(data[314])"
   ]
  },
  {
   "cell_type": "markdown",
   "id": "63877563",
   "metadata": {
    "papermill": {
     "duration": 0.019191,
     "end_time": "2022-03-31T04:26:11.588386",
     "exception": false,
     "start_time": "2022-03-31T04:26:11.569195",
     "status": "completed"
    },
    "tags": []
   },
   "source": [
    "## 对数据进行预处理，去除所有唐诗中的填充符号 \\</s\\>"
   ]
  },
  {
   "cell_type": "code",
   "execution_count": 5,
   "id": "1aa49744",
   "metadata": {
    "execution": {
     "iopub.execute_input": "2022-03-31T04:26:11.631678Z",
     "iopub.status.busy": "2022-03-31T04:26:11.630950Z",
     "iopub.status.idle": "2022-03-31T04:26:11.634434Z",
     "shell.execute_reply": "2022-03-31T04:26:11.634928Z",
     "shell.execute_reply.started": "2022-03-31T04:22:45.035456Z"
    },
    "papermill": {
     "duration": 0.027413,
     "end_time": "2022-03-31T04:26:11.635064",
     "exception": false,
     "start_time": "2022-03-31T04:26:11.607651",
     "status": "completed"
    },
    "tags": []
   },
   "outputs": [
    {
     "data": {
      "text/plain": [
       "8292"
      ]
     },
     "execution_count": 5,
     "metadata": {},
     "output_type": "execute_result"
    }
   ],
   "source": [
    "word2ix[\"</s>\"]"
   ]
  },
  {
   "cell_type": "code",
   "execution_count": 6,
   "id": "1dff2a84",
   "metadata": {
    "execution": {
     "iopub.execute_input": "2022-03-31T04:26:11.689157Z",
     "iopub.status.busy": "2022-03-31T04:26:11.688374Z",
     "iopub.status.idle": "2022-03-31T04:26:21.854781Z",
     "shell.execute_reply": "2022-03-31T04:26:21.853848Z",
     "shell.execute_reply.started": "2022-03-31T04:22:45.045332Z"
    },
    "papermill": {
     "duration": 10.199543,
     "end_time": "2022-03-31T04:26:21.854964",
     "exception": false,
     "start_time": "2022-03-31T04:26:11.655421",
     "status": "completed"
    },
    "tags": []
   },
   "outputs": [],
   "source": [
    "poems = []\n",
    "for poem in data:\n",
    "    for index,ix in enumerate(poem):\n",
    "        if ix == word2ix[\"</s>\"]:\n",
    "            continue\n",
    "        else:\n",
    "            break\n",
    "    poems.append(poem[index:])"
   ]
  },
  {
   "cell_type": "code",
   "execution_count": 7,
   "id": "41b904b3",
   "metadata": {
    "execution": {
     "iopub.execute_input": "2022-03-31T04:26:21.901761Z",
     "iopub.status.busy": "2022-03-31T04:26:21.901063Z",
     "iopub.status.idle": "2022-03-31T04:26:21.903584Z",
     "shell.execute_reply": "2022-03-31T04:26:21.903985Z",
     "shell.execute_reply.started": "2022-03-31T04:22:54.682996Z"
    },
    "papermill": {
     "duration": 0.029015,
     "end_time": "2022-03-31T04:26:21.904108",
     "exception": false,
     "start_time": "2022-03-31T04:26:21.875093",
     "status": "completed"
    },
    "tags": []
   },
   "outputs": [
    {
     "data": {
      "text/plain": [
       "(array([8291, 6731, 4770, 1787, 8118, 7577, 7066, 4817,  648, 7121, 1542,\n",
       "        6483, 7435, 7686, 2889, 1671, 5862, 1949, 7066, 2596, 4785, 3629,\n",
       "        1379, 2703, 7435, 6064, 6041, 4666, 4038, 4881, 7066, 4747, 1534,\n",
       "          70, 3788, 3823, 7435, 4907, 5567,  201, 2834, 1519, 7066,  782,\n",
       "         782, 2063, 2031,  846, 7435, 8290], dtype=int32),\n",
       " '<START>度门能不访，冒雪屡西东。已想人如玉，遥怜马似骢。乍迷金谷路，稍变上阳宫。还比相思意，纷纷正满空。<EOP>',\n",
       " 8293)"
      ]
     },
     "execution_count": 7,
     "metadata": {},
     "output_type": "execute_result"
    }
   ],
   "source": [
    "# del data\n",
    "poems[0],idx2poem(poems[0]),len(idx2word)"
   ]
  },
  {
   "cell_type": "markdown",
   "id": "bd6aa8ad",
   "metadata": {
    "papermill": {
     "duration": 0.019772,
     "end_time": "2022-03-31T04:26:21.943912",
     "exception": false,
     "start_time": "2022-03-31T04:26:21.924140",
     "status": "completed"
    },
    "tags": []
   },
   "source": [
    "构建X,Y训练集。"
   ]
  },
  {
   "cell_type": "code",
   "execution_count": 8,
   "id": "fa16b001",
   "metadata": {
    "execution": {
     "iopub.execute_input": "2022-03-31T04:26:22.013168Z",
     "iopub.status.busy": "2022-03-31T04:26:21.986212Z",
     "iopub.status.idle": "2022-03-31T04:26:22.863830Z",
     "shell.execute_reply": "2022-03-31T04:26:22.862812Z",
     "shell.execute_reply.started": "2022-03-31T04:22:54.694684Z"
    },
    "papermill": {
     "duration": 0.900099,
     "end_time": "2022-03-31T04:26:22.863972",
     "exception": false,
     "start_time": "2022-03-31T04:26:21.963873",
     "status": "completed"
    },
    "tags": []
   },
   "outputs": [],
   "source": [
    "seq_len = 48\n",
    "X = []\n",
    "Y = []\n",
    "poems_data = [j for i in poems for j in i]\n",
    "\n",
    "for i in range(0,len(poems_data) - seq_len -1,seq_len):\n",
    "    X.append(poems_data[i:i+seq_len])\n",
    "    Y.append(poems_data[i+1:i+seq_len+1])\n"
   ]
  },
  {
   "cell_type": "code",
   "execution_count": 9,
   "id": "6d0dcc28",
   "metadata": {
    "execution": {
     "iopub.execute_input": "2022-03-31T04:26:22.913380Z",
     "iopub.status.busy": "2022-03-31T04:26:22.912679Z",
     "iopub.status.idle": "2022-03-31T04:26:24.286541Z",
     "shell.execute_reply": "2022-03-31T04:26:24.285693Z",
     "shell.execute_reply.started": "2022-03-31T04:22:55.580633Z"
    },
    "papermill": {
     "duration": 1.400546,
     "end_time": "2022-03-31T04:26:24.286730",
     "exception": false,
     "start_time": "2022-03-31T04:26:22.886184",
     "status": "completed"
    },
    "tags": []
   },
   "outputs": [],
   "source": [
    "from torch.utils.data import DataLoader,Dataset\n",
    "import torch\n",
    "class PoemDataset(Dataset):\n",
    "\n",
    "    def __init__(self,X,Y):\n",
    "        self.X = X\n",
    "        self.Y = Y\n",
    "        self.len = len(X)\n",
    "    def __getitem__(self,index):\n",
    "        x = np.array(X[index])\n",
    "        y = np.array(Y[index])\n",
    "        return torch.from_numpy(x).long(),torch.from_numpy(y).long()\n",
    "    def __len__(self):\n",
    "        return self.len\n",
    "        \n",
    "data_loader = DataLoader(PoemDataset(X,Y),batch_size=1024,num_workers=2)"
   ]
  },
  {
   "cell_type": "code",
   "execution_count": 10,
   "id": "67277d19",
   "metadata": {
    "execution": {
     "iopub.execute_input": "2022-03-31T04:26:24.332641Z",
     "iopub.status.busy": "2022-03-31T04:26:24.332030Z",
     "iopub.status.idle": "2022-03-31T04:26:24.592772Z",
     "shell.execute_reply": "2022-03-31T04:26:24.594370Z",
     "shell.execute_reply.started": "2022-03-31T04:22:55.720461Z"
    },
    "papermill": {
     "duration": 0.287248,
     "end_time": "2022-03-31T04:26:24.594706",
     "exception": false,
     "start_time": "2022-03-31T04:26:24.307458",
     "status": "completed"
    },
    "tags": []
   },
   "outputs": [
    {
     "data": {
      "text/plain": [
       "(torch.Size([1024, 48]), torch.Size([1024, 48]))"
      ]
     },
     "execution_count": 10,
     "metadata": {},
     "output_type": "execute_result"
    }
   ],
   "source": [
    "a,b = next(iter(data_loader))\n",
    "a.shape,b.shape"
   ]
  },
  {
   "cell_type": "code",
   "execution_count": 11,
   "id": "2458d9e4",
   "metadata": {
    "execution": {
     "iopub.execute_input": "2022-03-31T04:26:24.689520Z",
     "iopub.status.busy": "2022-03-31T04:26:24.688764Z",
     "iopub.status.idle": "2022-03-31T04:26:24.698391Z",
     "shell.execute_reply": "2022-03-31T04:26:24.699351Z",
     "shell.execute_reply.started": "2022-03-31T04:22:55.905018Z"
    },
    "papermill": {
     "duration": 0.058582,
     "end_time": "2022-03-31T04:26:24.699526",
     "exception": false,
     "start_time": "2022-03-31T04:26:24.640944",
     "status": "completed"
    },
    "tags": []
   },
   "outputs": [],
   "source": [
    "import torch\n",
    "import torch.nn.functional as F\n",
    "import torch.nn as nn\n",
    "class PoemNet(nn.Module):\n",
    "    def __init__(self, vocab_size, embedding_dim, hidden_dim):\n",
    "        \"\"\"\n",
    "            vocab_size：训练集合字典大小（8293）\n",
    "            embedding_dim：word2vec的维度\n",
    "            hidden_dim：LSTM的hidden_dim\n",
    "        \"\"\"\n",
    "        super(PoemNet, self).__init__()\n",
    "        self.hidden_dim = hidden_dim\n",
    "        self.embeddings = nn.Embedding(vocab_size, embedding_dim)\n",
    "        self.lstm = nn.LSTM(embedding_dim, self.hidden_dim,batch_first=True)\n",
    "\n",
    "        self.fc = nn.Sequential(\n",
    "            nn.Linear(self.hidden_dim,2048),\n",
    "            nn.ReLU(),\n",
    "            nn.Dropout(0.25),\n",
    "            \n",
    "            nn.Linear(2048,4096),\n",
    "            nn.Dropout(0.2),\n",
    "            nn.ReLU(),\n",
    "            nn.Linear(4096,vocab_size),\n",
    "        )\n",
    "\n",
    "    def forward(self, input,hidden=None):\n",
    "        \"\"\"\n",
    "            input：输入的诗词\n",
    "            hidden：在生成诗词的时候需要使用，在pytorch中，，如果不指定初始状态h_0和C_0，则其\n",
    "            默认为0.\n",
    "            pytorch的LSTM的输出是(output,(h_n,c_n))。实际上，output就是h_1,h_2,……h_n\n",
    "        \"\"\"\n",
    "        embeds = self.embeddings(input)\n",
    "        batch_size, seq_len = input.size()\n",
    "        if hidden is None:\n",
    "            output, hidden = self.lstm(embeds)\n",
    "        else:\n",
    "            # h_0,c_0 = hidden\n",
    "            output, hidden = self.lstm(embeds,hidden)\n",
    "    \n",
    "        output = self.fc(output)\n",
    "        output = output.reshape(batch_size * seq_len, -1)\n",
    "        output = F.log_softmax(output,dim=1)\n",
    "        return output,hidden"
   ]
  },
  {
   "cell_type": "code",
   "execution_count": 12,
   "id": "7a20e09e",
   "metadata": {
    "execution": {
     "iopub.execute_input": "2022-03-31T04:26:24.773300Z",
     "iopub.status.busy": "2022-03-31T04:26:24.772456Z",
     "iopub.status.idle": "2022-03-31T04:26:24.774636Z",
     "shell.execute_reply": "2022-03-31T04:26:24.774000Z",
     "shell.execute_reply.started": "2022-03-31T04:22:55.921086Z"
    },
    "papermill": {
     "duration": 0.042047,
     "end_time": "2022-03-31T04:26:24.774809",
     "exception": false,
     "start_time": "2022-03-31T04:26:24.732762",
     "status": "completed"
    },
    "tags": []
   },
   "outputs": [],
   "source": [
    "vocab_size = len(word2ix.keys()) # 8293\n",
    "embedding_dim = 200\n",
    "hidden_dim = 1024"
   ]
  },
  {
   "cell_type": "code",
   "execution_count": 13,
   "id": "3778db59",
   "metadata": {
    "execution": {
     "iopub.execute_input": "2022-03-31T04:26:24.890724Z",
     "iopub.status.busy": "2022-03-31T04:26:24.890059Z",
     "iopub.status.idle": "2022-03-31T04:26:28.954781Z",
     "shell.execute_reply": "2022-03-31T04:26:28.954149Z",
     "shell.execute_reply.started": "2022-03-31T04:22:55.936852Z"
    },
    "papermill": {
     "duration": 4.146616,
     "end_time": "2022-03-31T04:26:28.954907",
     "exception": false,
     "start_time": "2022-03-31T04:26:24.808291",
     "status": "completed"
    },
    "tags": []
   },
   "outputs": [],
   "source": [
    "device = torch.device(\"cuda:0\" if torch.cuda.is_available() else \"cpu\")\n",
    "my_net = PoemNet(vocab_size,embedding_dim,hidden_dim).to(device)"
   ]
  },
  {
   "cell_type": "code",
   "execution_count": 14,
   "id": "af7b4bbb",
   "metadata": {
    "execution": {
     "iopub.execute_input": "2022-03-31T04:26:29.000061Z",
     "iopub.status.busy": "2022-03-31T04:26:28.999317Z",
     "iopub.status.idle": "2022-03-31T04:26:29.001428Z",
     "shell.execute_reply": "2022-03-31T04:26:29.001832Z",
     "shell.execute_reply.started": "2022-03-31T04:22:56.406165Z"
    },
    "papermill": {
     "duration": 0.026486,
     "end_time": "2022-03-31T04:26:29.001955",
     "exception": false,
     "start_time": "2022-03-31T04:26:28.975469",
     "status": "completed"
    },
    "tags": []
   },
   "outputs": [],
   "source": [
    "# x = torch.randint(1,1412,(16,32)).to(device)\n",
    "# y  = my_net(x)"
   ]
  },
  {
   "cell_type": "code",
   "execution_count": 15,
   "id": "2338250b",
   "metadata": {
    "execution": {
     "iopub.execute_input": "2022-03-31T04:26:29.046284Z",
     "iopub.status.busy": "2022-03-31T04:26:29.045405Z",
     "iopub.status.idle": "2022-03-31T04:26:29.050500Z",
     "shell.execute_reply": "2022-03-31T04:26:29.050079Z",
     "shell.execute_reply.started": "2022-03-31T04:22:56.412836Z"
    },
    "papermill": {
     "duration": 0.027687,
     "end_time": "2022-03-31T04:26:29.050599",
     "exception": false,
     "start_time": "2022-03-31T04:26:29.022912",
     "status": "completed"
    },
    "tags": []
   },
   "outputs": [],
   "source": [
    "import torch.optim as optim\n",
    "optimzer = optim.Adam(my_net.parameters(),lr=0.001)\n",
    "loss_function = nn.CrossEntropyLoss()"
   ]
  },
  {
   "cell_type": "markdown",
   "id": "d0bed480",
   "metadata": {
    "papermill": {
     "duration": 0.020574,
     "end_time": "2022-03-31T04:26:29.091446",
     "exception": false,
     "start_time": "2022-03-31T04:26:29.070872",
     "status": "completed"
    },
    "tags": []
   },
   "source": [
    "## 开始训练"
   ]
  },
  {
   "cell_type": "code",
   "execution_count": 16,
   "id": "33a73b2b",
   "metadata": {
    "execution": {
     "iopub.execute_input": "2022-03-31T04:26:29.138758Z",
     "iopub.status.busy": "2022-03-31T04:26:29.137924Z",
     "iopub.status.idle": "2022-03-31T07:46:21.347866Z",
     "shell.execute_reply": "2022-03-31T07:46:21.348299Z",
     "shell.execute_reply.started": "2022-03-31T04:22:56.422488Z"
    },
    "papermill": {
     "duration": 11992.236479,
     "end_time": "2022-03-31T07:46:21.348454",
     "exception": false,
     "start_time": "2022-03-31T04:26:29.111975",
     "status": "completed"
    },
    "tags": []
   },
   "outputs": [
    {
     "name": "stdout",
     "output_type": "stream",
     "text": [
      "6.86594607681036\n",
      "6.137322202324867\n",
      "5.941264726221561\n",
      "5.740553066134453\n",
      "5.524653658270836\n",
      "5.339044913649559\n",
      "5.185250006616116\n",
      "5.062027506530285\n",
      "4.958294026553631\n",
      "4.8608838096261024\n",
      "4.768598310649395\n",
      "4.688210293650627\n",
      "4.614417053759098\n",
      "4.543813459575176\n",
      "4.477163672447205\n",
      "4.415464676916599\n",
      "4.357650965452194\n",
      "4.303020555526018\n",
      "4.250680532306433\n",
      "4.202439229935408\n",
      "4.153485104441643\n",
      "4.10454773157835\n",
      "4.052609637379646\n",
      "4.00092438608408\n",
      "3.9505771547555923\n",
      "3.9029736556112766\n",
      "3.856202345341444\n",
      "3.815825156867504\n",
      "3.7771109379827976\n",
      "3.7380864024162292\n",
      "3.6966686323285103\n",
      "3.656085681170225\n",
      "3.6139936223626137\n",
      "3.5736645311117172\n",
      "3.533860892057419\n",
      "3.4995048344135284\n",
      "3.469289354979992\n",
      "3.4374887943267822\n",
      "3.401293881237507\n",
      "3.357454866170883\n",
      "3.316337510943413\n",
      "3.2771004550158978\n",
      "3.240685235708952\n",
      "3.200998354703188\n",
      "3.1607166416943073\n",
      "3.1222167909145355\n",
      "3.085622824728489\n",
      "3.047156136482954\n",
      "3.011751551181078\n",
      "2.9764722660183907\n",
      "2.9404236376285553\n",
      "2.9068773686885834\n",
      "2.876134227961302\n",
      "2.8468081541359425\n",
      "2.823373056948185\n",
      "2.80157408118248\n",
      "2.781944327056408\n",
      "2.755610765889287\n",
      "2.73101101629436\n",
      "2.7053884342312813\n",
      "2.6809291522949934\n",
      "2.6551926974207163\n",
      "2.632742865011096\n",
      "2.6053371597081423\n",
      "2.580334147438407\n",
      "2.5534120928496122\n",
      "2.5289622507989407\n",
      "2.5025496501475573\n",
      "2.473849566653371\n",
      "2.4451718144118786\n",
      "2.4251589234918356\n",
      "2.4060472324490547\n",
      "2.386126521974802\n",
      "2.3629540521651506\n",
      "2.339491032063961\n",
      "2.3184410519897938\n",
      "2.2980817575007677\n",
      "2.2815127186477184\n",
      "2.2671914864331484\n",
      "2.254259955137968\n",
      "2.2416455429047346\n",
      "2.2261347621679306\n",
      "2.2119402438402176\n",
      "2.1970374695956707\n",
      "2.1797809544950724\n",
      "2.1631353814154863\n",
      "2.1456718891859055\n",
      "2.1265928242355585\n",
      "2.1102462224662304\n",
      "2.09194091334939\n",
      "2.0805613100528717\n",
      "2.0648483633995056\n",
      "2.0485502909868956\n",
      "2.0340734608471394\n",
      "2.021968288347125\n",
      "2.009669626131654\n",
      "1.9972614981234074\n",
      "1.9836695063859224\n",
      "1.9706256221979856\n",
      "1.9613602608442307\n"
     ]
    }
   ],
   "source": [
    "for epoch in range(100):\n",
    "    my_net.train()\n",
    "    losses = []\n",
    "    for i,data in enumerate(data_loader):\n",
    "        inputs,target = data[0].to(device),data[1].to(device)\n",
    "        optimzer.zero_grad()\n",
    "        outputs,_= my_net(inputs)\n",
    "        loss = loss_function(outputs,target.view(-1))\n",
    "        loss.backward()\n",
    "        optimzer.step()\n",
    "        losses.append(loss.item())\n",
    "    print(np.mean(losses))\n",
    "    "
   ]
  },
  {
   "cell_type": "code",
   "execution_count": 19,
   "id": "cfd18d57",
   "metadata": {
    "execution": {
     "iopub.execute_input": "2022-03-31T07:46:21.848834Z",
     "iopub.status.busy": "2022-03-31T07:46:21.847931Z",
     "iopub.status.idle": "2022-03-31T07:46:22.375622Z",
     "shell.execute_reply": "2022-03-31T07:46:22.374665Z",
     "shell.execute_reply.started": "2022-03-31T04:25:02.099193Z"
    },
    "papermill": {
     "duration": 0.588243,
     "end_time": "2022-03-31T07:46:22.375810",
     "exception": false,
     "start_time": "2022-03-31T07:46:21.787567",
     "status": "completed"
    },
    "tags": []
   },
   "outputs": [],
   "source": [
    "torch.save(my_net,\"model.h5\")"
   ]
  }
 ],
 "metadata": {
  "kernelspec": {
   "display_name": "Python 3",
   "language": "python",
   "name": "python3"
  },
  "language_info": {
   "codemirror_mode": {
    "name": "ipython",
    "version": 3
   },
   "file_extension": ".py",
   "mimetype": "text/x-python",
   "name": "python",
   "nbconvert_exporter": "python",
   "pygments_lexer": "ipython3",
   "version": "3.7.12"
  },
  "papermill": {
   "default_parameters": {},
   "duration": 12021.265003,
   "end_time": "2022-03-31T07:46:24.160822",
   "environment_variables": {},
   "exception": null,
   "input_path": "__notebook__.ipynb",
   "output_path": "__notebook__.ipynb",
   "parameters": {},
   "start_time": "2022-03-31T04:26:02.895819",
   "version": "2.3.3"
  }
 },
 "nbformat": 4,
 "nbformat_minor": 5
}
